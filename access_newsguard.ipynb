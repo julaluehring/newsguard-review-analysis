{
 "cells": [
  {
   "cell_type": "code",
   "execution_count": 6,
   "metadata": {},
   "outputs": [],
   "source": [
    "import boto3 #the amazon database\n",
    "from pathlib import Path"
   ]
  },
  {
   "cell_type": "code",
   "execution_count": 7,
   "metadata": {},
   "outputs": [],
   "source": [
    "# load the credentials\n",
    "key_src = \"/home/jluehring/utilities/NewsGuard_API_keys/\"\n",
    "key_name = \"key_graz.txt\"\n",
    "\n",
    "credentials = {}\n",
    "with open(Path(key_src, key_name), \"r\") as keyfile:\n",
    "    for entry in keyfile.readlines():\n",
    "        key, val = entry.split(\"=\")\n",
    "        credentials[key] = val.strip(\"\\n\")"
   ]
  },
  {
   "cell_type": "code",
   "execution_count": 8,
   "metadata": {},
   "outputs": [],
   "source": [
    "# open a new session with the given credentials\n",
    "session = boto3.Session(\n",
    "    region_name=\"us-east-1\",\n",
    "    aws_access_key_id=credentials[\"access_key\"],\n",
    "    aws_secret_access_key=credentials[\"access_key_secret\"],\n",
    ")\n",
    "# instantiate a client from the session\n",
    "s3 = session.client(\"s3\")"
   ]
  },
  {
   "cell_type": "code",
   "execution_count": 9,
   "metadata": {},
   "outputs": [
    {
     "name": "stdout",
     "output_type": "stream",
     "text": [
      "2024\n",
      "\t9\n"
     ]
    }
   ],
   "source": [
    "# for monthly snapshots:\n",
    "for year in range(2024, 2025):\n",
    "    print(year)\n",
    "    for month in range(9, 10):\n",
    "        print(f\"\\t{month}\")\n",
    "        fname = f\"metadata-{year}{month:02d}1501.csv\" \n",
    "        try:\n",
    "            s3.download_file(\n",
    "                \"newsguard-feeds\", f\"full-metadata/{year}/{month:02d}/{fname}\",\n",
    "                f\"/data/NewsGuard/bi-monthly/{fname}\"\n",
    "            )\n",
    "        except Exception as e:\n",
    "            print(e)"
   ]
  },
  {
   "cell_type": "code",
   "execution_count": 10,
   "metadata": {},
   "outputs": [
    {
     "name": "stdout",
     "output_type": "stream",
     "text": [
      "2024\n",
      "\t9\n"
     ]
    }
   ],
   "source": [
    "# for monthly snapshots beginning of month:\n",
    "for year in range(2024, 2025):\n",
    "    print(year)\n",
    "    for month in range(9, 10):\n",
    "        print(f\"\\t{month}\")\n",
    "        fname = f\"metadata-{year}{month:02d}0201.csv\" \n",
    "        try:\n",
    "            s3.download_file(\n",
    "                \"newsguard-feeds\", f\"full-metadata/{year}/{month:02d}/{fname}\",\n",
    "                f\"/data/NewsGuard/bi-monthly/{fname}\"\n",
    "            )\n",
    "        except Exception as e:\n",
    "            print(e)"
   ]
  }
 ],
 "metadata": {
  "kernelspec": {
   "display_name": "Python 3.9.16 ('twarcing': conda)",
   "language": "python",
   "name": "python3"
  },
  "language_info": {
   "codemirror_mode": {
    "name": "ipython",
    "version": 3
   },
   "file_extension": ".py",
   "mimetype": "text/x-python",
   "name": "python",
   "nbconvert_exporter": "python",
   "pygments_lexer": "ipython3",
   "version": "3.12.4"
  },
  "orig_nbformat": 4,
  "vscode": {
   "interpreter": {
    "hash": "122a7c3d66a4980e2f87297476027edb93bf01ec0ee08097f33b63b2d6c6ba01"
   }
  }
 },
 "nbformat": 4,
 "nbformat_minor": 2
}
