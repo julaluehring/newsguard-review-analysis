{
 "cells": [
  {
   "attachments": {},
   "cell_type": "markdown",
   "metadata": {},
   "source": [
    "## Newsguard merge"
   ]
  },
  {
   "cell_type": "code",
   "execution_count": 1,
   "metadata": {},
   "outputs": [],
   "source": [
    "import os\n",
    "import pandas as pd"
   ]
  },
  {
   "cell_type": "code",
   "execution_count": 2,
   "metadata": {},
   "outputs": [],
   "source": [
    "folder_path = \"/data/NewsGuard/full-metadata\"\n",
    "csv_files = [f for f in os.listdir(folder_path) if f.endswith('.csv')]"
   ]
  },
  {
   "cell_type": "code",
   "execution_count": 3,
   "metadata": {},
   "outputs": [],
   "source": [
    "file=csv_files[0]\n",
    "df = pd.read_csv(os.path.join(folder_path, file))\n",
    "df.name=file"
   ]
  },
  {
   "cell_type": "code",
   "execution_count": 6,
   "metadata": {},
   "outputs": [
    {
     "data": {
      "text/plain": [
       "46"
      ]
     },
     "execution_count": 6,
     "metadata": {},
     "output_type": "execute_result"
    }
   ],
   "source": [
    "df.columns.nunique()"
   ]
  },
  {
   "cell_type": "code",
   "execution_count": 7,
   "metadata": {},
   "outputs": [
    {
     "data": {
      "text/plain": [
       "8234"
      ]
     },
     "execution_count": 7,
     "metadata": {},
     "output_type": "execute_result"
    }
   ],
   "source": [
    "df.Domain.nunique()"
   ]
  },
  {
   "cell_type": "code",
   "execution_count": 8,
   "metadata": {},
   "outputs": [
    {
     "data": {
      "text/plain": [
       "317"
      ]
     },
     "execution_count": 8,
     "metadata": {},
     "output_type": "execute_result"
    }
   ],
   "source": [
    "df[\"Parent Domain\"].nunique()"
   ]
  },
  {
   "cell_type": "code",
   "execution_count": 9,
   "metadata": {},
   "outputs": [
    {
     "data": {
      "text/plain": [
       "'metadata-2022090201.csv'"
      ]
     },
     "execution_count": 9,
     "metadata": {},
     "output_type": "execute_result"
    }
   ],
   "source": [
    "df.name"
   ]
  },
  {
   "cell_type": "code",
   "execution_count": 12,
   "metadata": {},
   "outputs": [
    {
     "name": "stdout",
     "output_type": "stream",
     "text": [
      "(9431, 46)\n",
      "(2628, 40)\n",
      "(9318, 46)\n",
      "(2698, 40)\n",
      "(9577, 47)\n",
      "(2836, 40)\n",
      "(9721, 47)\n",
      "(3328, 40)\n",
      "(10029, 47)\n",
      "(3535, 40)\n",
      "(10178, 47)\n",
      "(3813, 40)\n",
      "(10230, 47)\n",
      "(4029, 40)\n",
      "(10432, 47)\n",
      "(4204, 41)\n",
      "(10544, 47)\n",
      "(4375, 41)\n",
      "(10898, 47)\n",
      "(4472, 41)\n",
      "(11058, 47)\n",
      "(4664, 41)\n",
      "(11132, 47)\n",
      "(4825, 41)\n",
      "(4885, 41)\n",
      "(4982, 41)\n",
      "(5075, 41)\n",
      "(5113, 41)\n",
      "(5350, 41)\n",
      "(5651, 43)\n",
      "(6772, 44)\n",
      "(6839, 44)\n",
      "(6921, 44)\n",
      "(6877, 44)\n",
      "(7044, 46)\n",
      "(7085, 46)\n",
      "(7132, 46)\n",
      "(7200, 46)\n",
      "(7258, 46)\n",
      "(7324, 46)\n",
      "(7431, 46)\n",
      "(7488, 46)\n",
      "(7662, 46)\n",
      "(7838, 46)\n",
      "(8152, 46)\n",
      "(8211, 46)\n",
      "(8239, 46)\n",
      "(8569, 46)\n",
      "(8712, 46)\n",
      "(8845, 46)\n",
      "(5232, 46)\n",
      "(8929, 46)\n",
      "(9057, 46)\n",
      "(9793, 44)\n",
      "(9852, 47)\n",
      "(9894, 47)\n",
      "(9928, 47)\n"
     ]
    }
   ],
   "source": [
    "df_total = pd.DataFrame()\n",
    "for csv in csv_files:\n",
    "    df = pd.read_csv(os.path.join(folder_path, csv))\n",
    "    df.name=csv\n",
    "    print(df.shape)\n",
    "    # let's add the date from the name of the file\n",
    "    # taking name of the file, removing the extension and \"metadata-\"\n",
    "    df[\"file_date\"]=csv.split(\".\")[0].split(\"-\")[1]\n",
    "    # make file_date a datetime, with the format YYYYMMDD00\n",
    "    df[\"file_date\"]=pd.to_datetime(df[\"file_date\"], format=\"%Y%m%d%H\")\n",
    "    \n",
    "    df_total = pd.concat([df_total, df], axis=0)"
   ]
  },
  {
   "attachments": {},
   "cell_type": "markdown",
   "metadata": {},
   "source": [
    "The number of columns changes over time: Which ones were removed or added?"
   ]
  },
  {
   "cell_type": "code",
   "execution_count": 13,
   "metadata": {},
   "outputs": [
    {
     "name": "stdout",
     "output_type": "stream",
     "text": [
      "2022090201 ['Android App', 'Flags', 'Paywall', 'Pinterest', 'Process Information', 'Scope of Coverage', 'Snapchat', 'Topics', 'Wikipedia', 'Youtube', 'iOS App', 'myths']\n",
      "2019030201 ['Paywall', 'Pinterest', 'Scope of Coverage', 'Snapchat', 'Wikipedia', 'YouTube']\n",
      "2022080201 ['Android App', 'Flags', 'Paywall', 'Pinterest', 'Process Information', 'Scope of Coverage', 'Snapchat', 'Topics', 'Wikipedia', 'Youtube', 'iOS App', 'myths']\n",
      "2019040201 ['Paywall', 'Pinterest', 'Scope of Coverage', 'Snapchat', 'Wikipedia', 'YouTube']\n",
      "2022100201 ['Android App', 'Flags', 'Other', 'Paywall', 'Pinterest', 'Process Information', 'Scope of Coverage', 'Snapchat', 'Topics', 'Wikipedia', 'Youtube', 'iOS App', 'myths']\n",
      "2019050201 ['Paywall', 'Pinterest', 'Scope of Coverage', 'Snapchat', 'Wikipedia', 'YouTube']\n",
      "2022110201 ['Android App', 'Flags', 'Other', 'Paywall', 'Pinterest', 'Process Information', 'Scope of Coverage', 'Snapchat', 'Topics', 'Wikipedia', 'Youtube', 'iOS App', 'myths']\n",
      "2019060201 ['Paywall', 'Pinterest', 'Scope of Coverage', 'Snapchat', 'Wikipedia', 'YouTube']\n",
      "2023040201 ['Android App', 'BrandGuard Segments', 'Communities Served', 'Contact Mail Form URL.1', 'False Narratives', 'Flags', 'Original Reporting', 'Other', 'Process Information', 'Targeted Audience', 'Topics', 'Youtube', 'iOS App']\n",
      "2019070201 ['Paywall', 'Pinterest', 'Scope of Coverage', 'Snapchat', 'Wikipedia', 'YouTube']\n",
      "2023050201 ['Android App', 'BrandGuard Segments', 'Communities Served', 'Contact Mail Form URL.1', 'False Narratives', 'Flags', 'Original Reporting', 'Other', 'Process Information', 'Targeted Audience', 'Topics', 'Youtube', 'iOS App']\n",
      "2019080201 ['Paywall', 'Pinterest', 'Scope of Coverage', 'Snapchat', 'Wikipedia', 'YouTube']\n",
      "2023060201 ['Android App', 'BrandGuard Segments', 'Communities Served', 'Contact Mail Form URL.1', 'False Narratives', 'Flags', 'Original Reporting', 'Other', 'Process Information', 'Targeted Audience', 'Topics', 'Youtube', 'iOS App']\n",
      "2019090201 ['Paywall', 'Pinterest', 'Scope of Coverage', 'Snapchat', 'Wikipedia', 'YouTube']\n",
      "2023070201 ['Android App', 'BrandGuard Segments', 'Communities Served', 'Contact Mail Form URL.1', 'False Narratives', 'Flags', 'Original Reporting', 'Other', 'Process Information', 'Targeted Audience', 'Topics', 'Youtube', 'iOS App']\n",
      "2019100201 ['Paywall', 'Pinterest', 'Scope of Coverage', 'Snapchat', 'Topics', 'Wikipedia', 'YouTube']\n",
      "2023080201 ['Android App', 'BrandGuard Segments', 'Communities Served', 'Contact Mail Form URL.1', 'False Narratives', 'Flags', 'Original Reporting', 'Other', 'Process Information', 'Targeted Audience', 'Topics', 'Youtube', 'iOS App']\n",
      "2019110201 ['Paywall', 'Pinterest', 'Scope of Coverage', 'Snapchat', 'Topics', 'Wikipedia', 'YouTube']\n",
      "2023090201 ['Android App', 'BrandGuard Segments', 'Communities Served', 'Contact Mail Form URL.1', 'False Narratives', 'Flags', 'Original Reporting', 'Other', 'Process Information', 'Targeted Audience', 'Topics', 'Youtube', 'iOS App']\n",
      "2019120201 ['Paywall', 'Pinterest', 'Scope of Coverage', 'Snapchat', 'Topics', 'Wikipedia', 'YouTube']\n",
      "2023100201 ['Android App', 'BrandGuard Segments', 'Communities Served', 'Contact Mail Form URL.1', 'False Narratives', 'Flags', 'Original Reporting', 'Other', 'Process Information', 'Targeted Audience', 'Topics', 'Youtube', 'iOS App']\n",
      "2020010201 ['Paywall', 'Pinterest', 'Scope of Coverage', 'Snapchat', 'Topics', 'Wikipedia', 'YouTube']\n",
      "2023110201 ['Android App', 'BrandGuard Segments', 'Communities Served', 'Contact Mail Form URL.1', 'False Narratives', 'Flags', 'Original Reporting', 'Other', 'Process Information', 'Targeted Audience', 'Topics', 'Youtube', 'iOS App']\n",
      "2020020201 ['Paywall', 'Pinterest', 'Scope of Coverage', 'Snapchat', 'Topics', 'Wikipedia', 'YouTube']\n",
      "2020030201 ['Paywall', 'Pinterest', 'Scope of Coverage', 'Snapchat', 'Topics', 'Wikipedia', 'YouTube']\n",
      "2020040201 ['Paywall', 'Pinterest', 'Scope of Coverage', 'Snapchat', 'Topics', 'Wikipedia', 'YouTube']\n",
      "2020050201 ['Paywall', 'Pinterest', 'Scope of Coverage', 'Snapchat', 'Topics', 'Wikipedia', 'YouTube']\n",
      "2020060201 ['Paywall', 'Pinterest', 'Scope of Coverage', 'Snapchat', 'Topics', 'Wikipedia', 'YouTube']\n",
      "2020070201 ['Paywall', 'Pinterest', 'Scope of Coverage', 'Snapchat', 'Topics', 'Wikipedia', 'YouTube']\n",
      "2020080201 ['Flags', 'Paywall', 'Pinterest', 'Process Information', 'Scope of Coverage', 'Snapchat', 'Topics', 'Wikipedia', 'Youtube']\n",
      "2020090201 ['Flags', 'Paywall', 'Pinterest', 'Process Information', 'Scope of Coverage', 'Snapchat', 'Topics', 'Wikipedia', 'Youtube', 'myths']\n",
      "2020100201 ['Flags', 'Paywall', 'Pinterest', 'Process Information', 'Scope of Coverage', 'Snapchat', 'Topics', 'Wikipedia', 'Youtube', 'myths']\n",
      "2020110201 ['Flags', 'Paywall', 'Pinterest', 'Process Information', 'Scope of Coverage', 'Snapchat', 'Topics', 'Wikipedia', 'Youtube', 'myths']\n",
      "2020120201 ['Flags', 'Paywall', 'Pinterest', 'Process Information', 'Scope of Coverage', 'Snapchat', 'Topics', 'Wikipedia', 'Youtube', 'myths']\n",
      "2021010201 ['Android App', 'Flags', 'Paywall', 'Pinterest', 'Process Information', 'Scope of Coverage', 'Snapchat', 'Topics', 'Wikipedia', 'Youtube', 'iOS App', 'myths']\n",
      "2021020201 ['Android App', 'Flags', 'Paywall', 'Pinterest', 'Process Information', 'Scope of Coverage', 'Snapchat', 'Topics', 'Wikipedia', 'Youtube', 'iOS App', 'myths']\n",
      "2021030201 ['Android App', 'Flags', 'Paywall', 'Pinterest', 'Process Information', 'Scope of Coverage', 'Snapchat', 'Topics', 'Wikipedia', 'Youtube', 'iOS App', 'myths']\n",
      "2021040201 ['Android App', 'Flags', 'Paywall', 'Pinterest', 'Process Information', 'Scope of Coverage', 'Snapchat', 'Topics', 'Wikipedia', 'Youtube', 'iOS App', 'myths']\n",
      "2021050201 ['Android App', 'Flags', 'Paywall', 'Pinterest', 'Process Information', 'Scope of Coverage', 'Snapchat', 'Topics', 'Wikipedia', 'Youtube', 'iOS App', 'myths']\n",
      "2021060201 ['Android App', 'Flags', 'Paywall', 'Pinterest', 'Process Information', 'Scope of Coverage', 'Snapchat', 'Topics', 'Wikipedia', 'Youtube', 'iOS App', 'myths']\n",
      "2021070201 ['Android App', 'Flags', 'Paywall', 'Pinterest', 'Process Information', 'Scope of Coverage', 'Snapchat', 'Topics', 'Wikipedia', 'Youtube', 'iOS App', 'myths']\n",
      "2021080201 ['Android App', 'Flags', 'Paywall', 'Pinterest', 'Process Information', 'Scope of Coverage', 'Snapchat', 'Topics', 'Wikipedia', 'Youtube', 'iOS App', 'myths']\n",
      "2021090201 ['Android App', 'Flags', 'Paywall', 'Pinterest', 'Process Information', 'Scope of Coverage', 'Snapchat', 'Topics', 'Wikipedia', 'Youtube', 'iOS App', 'myths']\n",
      "2021100201 ['Android App', 'Flags', 'Paywall', 'Pinterest', 'Process Information', 'Scope of Coverage', 'Snapchat', 'Topics', 'Wikipedia', 'Youtube', 'iOS App', 'myths']\n",
      "2021110201 ['Android App', 'Flags', 'Paywall', 'Pinterest', 'Process Information', 'Scope of Coverage', 'Snapchat', 'Topics', 'Wikipedia', 'Youtube', 'iOS App', 'myths']\n",
      "2021120201 ['Android App', 'Flags', 'Paywall', 'Pinterest', 'Process Information', 'Scope of Coverage', 'Snapchat', 'Topics', 'Wikipedia', 'Youtube', 'iOS App', 'myths']\n",
      "2022010201 ['Android App', 'Flags', 'Paywall', 'Pinterest', 'Process Information', 'Scope of Coverage', 'Snapchat', 'Topics', 'Wikipedia', 'Youtube', 'iOS App', 'myths']\n",
      "2022020201 ['Android App', 'Flags', 'Paywall', 'Pinterest', 'Process Information', 'Scope of Coverage', 'Snapchat', 'Topics', 'Wikipedia', 'Youtube', 'iOS App', 'myths']\n",
      "2022030201 ['Android App', 'Flags', 'Paywall', 'Pinterest', 'Process Information', 'Scope of Coverage', 'Snapchat', 'Topics', 'Wikipedia', 'Youtube', 'iOS App', 'myths']\n",
      "2022040201 ['Android App', 'Flags', 'Paywall', 'Pinterest', 'Process Information', 'Scope of Coverage', 'Snapchat', 'Topics', 'Wikipedia', 'Youtube', 'iOS App', 'myths']\n",
      "2022050201 ['Android App', 'Flags', 'Paywall', 'Pinterest', 'Process Information', 'Scope of Coverage', 'Snapchat', 'Topics', 'Wikipedia', 'Youtube', 'iOS App', 'myths']\n",
      "2022060201 ['Android App', 'Flags', 'Paywall', 'Pinterest', 'Process Information', 'Scope of Coverage', 'Snapchat', 'Topics', 'Wikipedia', 'Youtube', 'iOS App', 'myths']\n",
      "2022070201 ['Android App', 'Flags', 'Paywall', 'Pinterest', 'Process Information', 'Scope of Coverage', 'Snapchat', 'Topics', 'Wikipedia', 'Youtube', 'iOS App', 'myths']\n",
      "2022120201 ['Android App', 'Flags', 'OTHER', 'Original Reporting', 'Process Information', 'Targeted Audience', 'Topics', 'Youtube', 'iOS App', 'myths']\n",
      "2023010201 ['Android App', 'BrandGuard Segments', 'Communities Served', 'Contact Mail Form URL.1', 'Flags', 'Original Reporting', 'Other', 'Process Information', 'Targeted Audience', 'Topics', 'Youtube', 'iOS App', 'myths']\n",
      "2023020201 ['Android App', 'BrandGuard Segments', 'Communities Served', 'Contact Mail Form URL.1', 'False Narratives', 'Flags', 'Original Reporting', 'Other', 'Process Information', 'Targeted Audience', 'Topics', 'Youtube', 'iOS App']\n",
      "2023030201 ['Android App', 'BrandGuard Segments', 'Communities Served', 'Contact Mail Form URL.1', 'False Narratives', 'Flags', 'Original Reporting', 'Other', 'Process Information', 'Targeted Audience', 'Topics', 'Youtube', 'iOS App']\n"
     ]
    }
   ],
   "source": [
    "# for all the files, compare the columns\n",
    "columns_years = {}\n",
    "for csv in csv_files:\n",
    "    df=pd.read_csv(os.path.join(folder_path, csv))\n",
    "    columns_years[csv.split(\".\")[0].split(\"-\")[1]]=df.columns # saving a dict with the year/month as key and the columns as value to compare them\n",
    "# substracting the columns common to all the files\n",
    "always_present_columns = set.intersection(*map(set, columns_years.values()))\n",
    "# removing the columns that are always present from the columns of each file\n",
    "for year in columns_years.keys():\n",
    "    columns_years[year]=list(set(columns_years[year])-always_present_columns)\n",
    "# lets show the remaining columns over the years\n",
    "for year in columns_years.keys():\n",
    "    columns_years[year].sort()\n",
    "    print(year, columns_years[year])"
   ]
  },
  {
   "cell_type": "code",
   "execution_count": 14,
   "metadata": {},
   "outputs": [
    {
     "data": {
      "text/plain": [
       "34"
      ]
     },
     "execution_count": 14,
     "metadata": {},
     "output_type": "execute_result"
    }
   ],
   "source": [
    "len(always_present_columns)"
   ]
  },
  {
   "cell_type": "code",
   "execution_count": 17,
   "metadata": {},
   "outputs": [
    {
     "data": {
      "text/plain": [
       "10337"
      ]
     },
     "execution_count": 17,
     "metadata": {},
     "output_type": "execute_result"
    }
   ],
   "source": [
    "df_total[\"Domain\"].nunique()"
   ]
  },
  {
   "cell_type": "code",
   "execution_count": 19,
   "metadata": {},
   "outputs": [],
   "source": [
    "# save the dataframe to csv\n",
    "file=\"newsguard_merged.csv.gz\"\n",
    "df_total.to_csv(os.path.join(folder_path, file), compression=\"gzip\", index=False)"
   ]
  }
 ],
 "metadata": {
  "kernelspec": {
   "display_name": "Python 3.6.8 64-bit",
   "language": "python",
   "name": "python3"
  },
  "language_info": {
   "codemirror_mode": {
    "name": "ipython",
    "version": 3
   },
   "file_extension": ".py",
   "mimetype": "text/x-python",
   "name": "python",
   "nbconvert_exporter": "python",
   "pygments_lexer": "ipython3",
   "version": "3.6.8"
  },
  "orig_nbformat": 4,
  "vscode": {
   "interpreter": {
    "hash": "916dbcbb3f70747c44a77c7bcd40155683ae19c65e1c03b4aa3499c5328201f1"
   }
  }
 },
 "nbformat": 4,
 "nbformat_minor": 2
}
