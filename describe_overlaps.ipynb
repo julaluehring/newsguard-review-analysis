{
 "cells": [
  {
   "cell_type": "code",
   "execution_count": 1,
   "metadata": {},
   "outputs": [],
   "source": [
    "import pandas as pd\n",
    "from os.path import join\n",
    "import warnings\n",
    "warnings.filterwarnings(\"ignore\", category=pd.errors.SettingWithCopyWarning)"
   ]
  },
  {
   "cell_type": "code",
   "execution_count": 2,
   "metadata": {},
   "outputs": [],
   "source": [
    "DIR = \"/data/NewsGuard/\"\n",
    "TABLES = \"/home/jluehring/newsguard/newsguard-review-paper/tables/\""
   ]
  },
  {
   "cell_type": "code",
   "execution_count": 3,
   "metadata": {},
   "outputs": [],
   "source": [
    "# sampled only from the middle of the month\n",
    "df_15 = pd.read_csv(join(DIR, \"newsguard_mid_month.csv\"),\n",
    "                    parse_dates=[\"file_date\"],\n",
    "                    low_memory=False)"
   ]
  },
  {
   "cell_type": "code",
   "execution_count": 4,
   "metadata": {},
   "outputs": [
    {
     "name": "stdout",
     "output_type": "stream",
     "text": [
      "1147\n"
     ]
    }
   ],
   "source": [
    "gond = pd.read_csv(\"../GONDv1_domains.csv\")\n",
    "print(gond[\"domain\"].nunique())"
   ]
  },
  {
   "cell_type": "code",
   "execution_count": 5,
   "metadata": {},
   "outputs": [
    {
     "data": {
      "text/plain": [
       "type\n",
       "legacy press                561\n",
       "digital-born news outlet    206\n",
       "commercial broadcaster      116\n",
       "hyperpartisan news           94\n",
       "public broadcaster           92\n",
       "tabloid newspaper            78\n",
       "Name: count, dtype: int64"
      ]
     },
     "execution_count": 5,
     "metadata": {},
     "output_type": "execute_result"
    }
   ],
   "source": [
    "gond[\"type\"]\\\n",
    "    .value_counts(\n",
    "        normalize=False)"
   ]
  },
  {
   "cell_type": "code",
   "execution_count": 6,
   "metadata": {},
   "outputs": [
    {
     "data": {
      "text/plain": [
       "552"
      ]
     },
     "execution_count": 6,
     "metadata": {},
     "output_type": "execute_result"
    }
   ],
   "source": [
    "df15_unique = \\\n",
    "    df_15\\\n",
    "    .drop_duplicates(\n",
    "        subset=\"Domain\", \n",
    "        keep=\"first\")\n",
    "\n",
    "gond_unqiue = \\\n",
    "    gond\\\n",
    "    .drop_duplicates(\n",
    "        subset=\"domain\", \n",
    "        keep=\"first\")\n",
    "\n",
    "overlap = pd.merge(gond_unqiue, df15_unique, \n",
    "                   left_on=\"domain\", \n",
    "                   right_on=\"Domain\",\n",
    "                   how=\"inner\")\n",
    "\n",
    "len(overlap)"
   ]
  },
  {
   "cell_type": "code",
   "execution_count": 7,
   "metadata": {},
   "outputs": [],
   "source": [
    "#keep only the columns of interest\n",
    "overlap_interest = \\\n",
    "    overlap[[\"domain\", \"type\", \"language\", \n",
    "             \"Domain\", \"Country\", \"Language\", \"Score\", \"Rating\"]]\n",
    "\n",
    "#rename into Type\n",
    "overlap_interest[\"GOND Type\"] = overlap_interest[\"type\"] \n",
    "overlap_interest = overlap_interest.drop(columns=\"type\")"
   ]
  },
  {
   "cell_type": "code",
   "execution_count": 8,
   "metadata": {},
   "outputs": [
    {
     "data": {
      "text/html": [
       "<div>\n",
       "<style scoped>\n",
       "    .dataframe tbody tr th:only-of-type {\n",
       "        vertical-align: middle;\n",
       "    }\n",
       "\n",
       "    .dataframe tbody tr th {\n",
       "        vertical-align: top;\n",
       "    }\n",
       "\n",
       "    .dataframe thead th {\n",
       "        text-align: right;\n",
       "    }\n",
       "</style>\n",
       "<table border=\"1\" class=\"dataframe\">\n",
       "  <thead>\n",
       "    <tr style=\"text-align: right;\">\n",
       "      <th></th>\n",
       "      <th>GOND Type</th>\n",
       "      <th>NewsGuard Score</th>\n",
       "      <th>Overlap</th>\n",
       "      <th>proportion</th>\n",
       "    </tr>\n",
       "  </thead>\n",
       "  <tbody>\n",
       "    <tr>\n",
       "      <th>0</th>\n",
       "      <td>commercial broadcaster</td>\n",
       "      <td>89.4</td>\n",
       "      <td>58</td>\n",
       "      <td>10.5</td>\n",
       "    </tr>\n",
       "    <tr>\n",
       "      <th>1</th>\n",
       "      <td>digital-born news outlet</td>\n",
       "      <td>84.5</td>\n",
       "      <td>66</td>\n",
       "      <td>12.0</td>\n",
       "    </tr>\n",
       "    <tr>\n",
       "      <th>2</th>\n",
       "      <td>hyperpartisan news</td>\n",
       "      <td>43.0</td>\n",
       "      <td>56</td>\n",
       "      <td>10.1</td>\n",
       "    </tr>\n",
       "    <tr>\n",
       "      <th>3</th>\n",
       "      <td>legacy press</td>\n",
       "      <td>91.0</td>\n",
       "      <td>292</td>\n",
       "      <td>52.9</td>\n",
       "    </tr>\n",
       "    <tr>\n",
       "      <th>4</th>\n",
       "      <td>public broadcaster</td>\n",
       "      <td>89.0</td>\n",
       "      <td>40</td>\n",
       "      <td>7.2</td>\n",
       "    </tr>\n",
       "    <tr>\n",
       "      <th>5</th>\n",
       "      <td>tabloid newspaper</td>\n",
       "      <td>84.6</td>\n",
       "      <td>40</td>\n",
       "      <td>7.2</td>\n",
       "    </tr>\n",
       "  </tbody>\n",
       "</table>\n",
       "</div>"
      ],
      "text/plain": [
       "                  GOND Type  NewsGuard Score  Overlap  proportion\n",
       "0    commercial broadcaster             89.4       58        10.5\n",
       "1  digital-born news outlet             84.5       66        12.0\n",
       "2        hyperpartisan news             43.0       56        10.1\n",
       "3              legacy press             91.0      292        52.9\n",
       "4        public broadcaster             89.0       40         7.2\n",
       "5         tabloid newspaper             84.6       40         7.2"
      ]
     },
     "execution_count": 8,
     "metadata": {},
     "output_type": "execute_result"
    }
   ],
   "source": [
    "overlap_type_score = \\\n",
    "    overlap_interest\\\n",
    "        .groupby(\"GOND Type\")\\\n",
    "        [\"Score\"]\\\n",
    "        .mean()\\\n",
    "        .round(1)\\\n",
    "        .reset_index(name=\"NewsGuard Score\")\n",
    "\n",
    "overlap_type_n = \\\n",
    "    overlap_interest\\\n",
    "        .groupby(\"GOND Type\")\\\n",
    "        .size()\\\n",
    "        .reset_index(name=\"Overlap\")\n",
    "\n",
    "overlap_type_perc = overlap_interest[\"GOND Type\"]\\\n",
    "    .value_counts(normalize=True)\\\n",
    "    .mul(100)\\\n",
    "    .round(1)\\\n",
    "    .reset_index()\n",
    "\n",
    "overlap_type_sum = \\\n",
    "    overlap_type_score\\\n",
    "        .merge(overlap_type_n,\n",
    "                on=\"GOND Type\")\\\n",
    "        .merge(overlap_type_perc,\n",
    "                on=\"GOND Type\")\n",
    "\n",
    "overlap_type_sum"
   ]
  },
  {
   "cell_type": "code",
   "execution_count": 9,
   "metadata": {},
   "outputs": [
    {
     "name": "stderr",
     "output_type": "stream",
     "text": [
      "<>:4: SyntaxWarning: invalid escape sequence '\\%'\n",
      "<>:4: SyntaxWarning: invalid escape sequence '\\%'\n",
      "/tmp/ipykernel_587440/3645375188.py:4: SyntaxWarning: invalid escape sequence '\\%'\n",
      "  .rename(columns={\"proportion\": \"\\%\"})\n"
     ]
    }
   ],
   "source": [
    "#save as latex table\n",
    "#rename column to percentage\n",
    "overlap_type_sum = overlap_type_sum\\\n",
    "    .rename(columns={\"proportion\": \"\\%\"})\n",
    "\n",
    "overlap_type_sum_latex = overlap_type_sum\\\n",
    "    .to_latex(\n",
    "        index=False, \n",
    "        escape=False,\n",
    "        caption=\"Overlap between GOND and NewsGuard.\",\n",
    "        label=\"tab:overlap_lists\", \n",
    "        position='H',\n",
    "        column_format=' X c c c ',\n",
    "        longtable=False, \n",
    "        header=True, \n",
    "        na_rep='---', \n",
    "        float_format=\"{:.1f}\".format,\n",
    "        bold_rows=True)\n",
    "\n",
    "overlap_type_sum_latex = \\\n",
    "    overlap_type_sum_latex\\\n",
    "        .replace(\"\\\\begin{tabular}{\", \"\\\\begin{tabularx}{\\\\textwidth}{\")\n",
    "overlap_type_sum_latex = \\\n",
    "    overlap_type_sum_latex\\\n",
    "        .replace(\"\\\\end{tabular}\", \"\\\\end{tabularx}\")\n",
    "\n",
    "overlap_type_sum_latex = \\\n",
    "    overlap_type_sum_latex\\\n",
    "        .replace(\"\\\\bottomrule\", \n",
    "                 \"\\\\bottomrule\\n\" \n",
    "                 \"\\\\multicolumn{3}{l}{\\\\textit{Note.} As of July 15th, 2024.}\"\n",
    "                 )\n",
    "\n",
    "with open(join(TABLES, \"overlap_lists.tex\"), 'w') as f:\n",
    "    f.write(overlap_type_sum_latex)"
   ]
  },
  {
   "cell_type": "code",
   "execution_count": 10,
   "metadata": {},
   "outputs": [
    {
     "data": {
      "text/plain": [
       "573"
      ]
     },
     "execution_count": 10,
     "metadata": {},
     "output_type": "execute_result"
    }
   ],
   "source": [
    "gond_de = (gond[gond[\"language\"] == \"de\"]\n",
    "           .drop_duplicates(\n",
    "               subset=\"domain\", \n",
    "               keep=\"first\")\n",
    ")\n",
    "len(gond_de)"
   ]
  },
  {
   "cell_type": "code",
   "execution_count": 11,
   "metadata": {},
   "outputs": [
    {
     "data": {
      "text/plain": [
       "244"
      ]
     },
     "execution_count": 11,
     "metadata": {},
     "output_type": "execute_result"
    }
   ],
   "source": [
    "#overlap between gond and newsguard\n",
    "df15_de = (df_15[df_15[\"Language\"] == \"de\"]\n",
    "           .drop_duplicates(\n",
    "               subset=\"Domain\", \n",
    "               keep=\"first\")\n",
    ")\n",
    "overlap_de = pd.merge(gond_de, df15_de, \n",
    "                   left_on=\"domain\", \n",
    "                   right_on=\"Domain\",\n",
    "                   how=\"inner\")\n",
    "len(overlap_de)"
   ]
  },
  {
   "cell_type": "code",
   "execution_count": 12,
   "metadata": {},
   "outputs": [
    {
     "data": {
      "text/html": [
       "<div>\n",
       "<style scoped>\n",
       "    .dataframe tbody tr th:only-of-type {\n",
       "        vertical-align: middle;\n",
       "    }\n",
       "\n",
       "    .dataframe tbody tr th {\n",
       "        vertical-align: top;\n",
       "    }\n",
       "\n",
       "    .dataframe thead th {\n",
       "        text-align: right;\n",
       "    }\n",
       "</style>\n",
       "<table border=\"1\" class=\"dataframe\">\n",
       "  <thead>\n",
       "    <tr style=\"text-align: right;\">\n",
       "      <th></th>\n",
       "      <th>type</th>\n",
       "      <th>Count</th>\n",
       "    </tr>\n",
       "  </thead>\n",
       "  <tbody>\n",
       "    <tr>\n",
       "      <th>0</th>\n",
       "      <td>commercial broadcaster</td>\n",
       "      <td>4</td>\n",
       "    </tr>\n",
       "    <tr>\n",
       "      <th>1</th>\n",
       "      <td>digital-born news outlet</td>\n",
       "      <td>20</td>\n",
       "    </tr>\n",
       "    <tr>\n",
       "      <th>2</th>\n",
       "      <td>hyperpartisan news</td>\n",
       "      <td>24</td>\n",
       "    </tr>\n",
       "    <tr>\n",
       "      <th>3</th>\n",
       "      <td>legacy press</td>\n",
       "      <td>163</td>\n",
       "    </tr>\n",
       "    <tr>\n",
       "      <th>4</th>\n",
       "      <td>public broadcaster</td>\n",
       "      <td>18</td>\n",
       "    </tr>\n",
       "    <tr>\n",
       "      <th>5</th>\n",
       "      <td>tabloid newspaper</td>\n",
       "      <td>15</td>\n",
       "    </tr>\n",
       "  </tbody>\n",
       "</table>\n",
       "</div>"
      ],
      "text/plain": [
       "                       type  Count\n",
       "0    commercial broadcaster      4\n",
       "1  digital-born news outlet     20\n",
       "2        hyperpartisan news     24\n",
       "3              legacy press    163\n",
       "4        public broadcaster     18\n",
       "5         tabloid newspaper     15"
      ]
     },
     "execution_count": 12,
     "metadata": {},
     "output_type": "execute_result"
    }
   ],
   "source": [
    "overlap_de_type = overlap_de\\\n",
    "    .groupby(\"type\")\\\n",
    "    .size()\\\n",
    "    .reset_index(name=\"Count\")\n",
    "\n",
    "overlap_de_type"
   ]
  },
  {
   "cell_type": "code",
   "execution_count": 13,
   "metadata": {},
   "outputs": [
    {
     "data": {
      "text/html": [
       "<div>\n",
       "<style scoped>\n",
       "    .dataframe tbody tr th:only-of-type {\n",
       "        vertical-align: middle;\n",
       "    }\n",
       "\n",
       "    .dataframe tbody tr th {\n",
       "        vertical-align: top;\n",
       "    }\n",
       "\n",
       "    .dataframe thead th {\n",
       "        text-align: right;\n",
       "    }\n",
       "</style>\n",
       "<table border=\"1\" class=\"dataframe\">\n",
       "  <thead>\n",
       "    <tr style=\"text-align: right;\">\n",
       "      <th></th>\n",
       "      <th>type</th>\n",
       "      <th>Count</th>\n",
       "    </tr>\n",
       "  </thead>\n",
       "  <tbody>\n",
       "    <tr>\n",
       "      <th>0</th>\n",
       "      <td>commercial broadcaster</td>\n",
       "      <td>58</td>\n",
       "    </tr>\n",
       "    <tr>\n",
       "      <th>1</th>\n",
       "      <td>digital-born news outlet</td>\n",
       "      <td>66</td>\n",
       "    </tr>\n",
       "    <tr>\n",
       "      <th>2</th>\n",
       "      <td>hyperpartisan news</td>\n",
       "      <td>56</td>\n",
       "    </tr>\n",
       "    <tr>\n",
       "      <th>3</th>\n",
       "      <td>legacy press</td>\n",
       "      <td>292</td>\n",
       "    </tr>\n",
       "    <tr>\n",
       "      <th>4</th>\n",
       "      <td>public broadcaster</td>\n",
       "      <td>40</td>\n",
       "    </tr>\n",
       "    <tr>\n",
       "      <th>5</th>\n",
       "      <td>tabloid newspaper</td>\n",
       "      <td>40</td>\n",
       "    </tr>\n",
       "  </tbody>\n",
       "</table>\n",
       "</div>"
      ],
      "text/plain": [
       "                       type  Count\n",
       "0    commercial broadcaster     58\n",
       "1  digital-born news outlet     66\n",
       "2        hyperpartisan news     56\n",
       "3              legacy press    292\n",
       "4        public broadcaster     40\n",
       "5         tabloid newspaper     40"
      ]
     },
     "execution_count": 13,
     "metadata": {},
     "output_type": "execute_result"
    }
   ],
   "source": [
    "#per type of source, what is the overlap?\n",
    "overlap\\\n",
    "    .groupby(\"type\")\\\n",
    "    .size()\\\n",
    "    .reset_index(name=\"Count\")"
   ]
  },
  {
   "cell_type": "code",
   "execution_count": 14,
   "metadata": {},
   "outputs": [],
   "source": [
    "#what are the sources in NG that dont overlap?\n",
    "df15_de_unique = df15_de[~df15_de[\"Domain\"].isin(gond_de[\"domain\"])]\n",
    "#df15_de_unique[\"Domain\"].to_list()"
   ]
  },
  {
   "cell_type": "code",
   "execution_count": 15,
   "metadata": {},
   "outputs": [],
   "source": [
    "gond_de_unique = gond_de[~gond_de[\"domain\"].isin(df15_de[\"Domain\"])]\n",
    "#gond_de_unique[\"domain\"].to_list()"
   ]
  }
 ],
 "metadata": {
  "kernelspec": {
   "display_name": "newsguard",
   "language": "python",
   "name": "python3"
  },
  "language_info": {
   "codemirror_mode": {
    "name": "ipython",
    "version": 3
   },
   "file_extension": ".py",
   "mimetype": "text/x-python",
   "name": "python",
   "nbconvert_exporter": "python",
   "pygments_lexer": "ipython3",
   "version": "3.12.4"
  }
 },
 "nbformat": 4,
 "nbformat_minor": 2
}
