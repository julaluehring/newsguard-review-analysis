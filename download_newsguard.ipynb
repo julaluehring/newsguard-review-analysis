{
 "cells": [
  {
   "cell_type": "markdown",
   "metadata": {},
   "source": [
    "# NewsGuard access\n",
    "Replicating Janas code on [Github](https://github.com/JanaLasser/newsguard-analysis/blob/main/get_NewsGuard_data.ipynb)."
   ]
  },
  {
   "cell_type": "code",
   "execution_count": 1,
   "metadata": {},
   "outputs": [],
   "source": [
    "import boto3 #the amazon database\n",
    "from pathlib import Path"
   ]
  },
  {
   "cell_type": "code",
   "execution_count": 2,
   "metadata": {},
   "outputs": [],
   "source": [
    "# load the credentials\n",
    "key_src = \"/home/jluehring/utilities/NewsGuard_API_keys/\"\n",
    "key_name = \"key_graz.txt\"\n",
    "\n",
    "credentials = {}\n",
    "with open(Path(key_src, key_name), \"r\") as keyfile:\n",
    "    for entry in keyfile.readlines():\n",
    "        key, val = entry.split(\"=\")\n",
    "        credentials[key] = val.strip(\"\\n\")"
   ]
  },
  {
   "cell_type": "code",
   "execution_count": 3,
   "metadata": {},
   "outputs": [],
   "source": [
    "# open a new session with the given credentials\n",
    "session = boto3.Session(\n",
    "    region_name=\"us-east-1\",\n",
    "    aws_access_key_id=credentials[\"access_key\"],\n",
    "    aws_secret_access_key=credentials[\"access_key_secret\"],\n",
    ")\n",
    "# instantiate a client from the session\n",
    "s3 = session.client(\"s3\")"
   ]
  },
  {
   "cell_type": "code",
   "execution_count": 5,
   "metadata": {},
   "outputs": [
    {
     "name": "stdout",
     "output_type": "stream",
     "text": [
      "2024\n",
      "\t2\n",
      "\t3\n",
      "\t4\n",
      "\t5\n",
      "\t6\n",
      "\t7\n"
     ]
    }
   ],
   "source": [
    "# for monthly snapshots:\n",
    "for year in range(2024, 2025):\n",
    "    print(year)\n",
    "    for month in range(2, 8):\n",
    "        print(f\"\\t{month}\")\n",
    "        fname = f\"metadata-{year}{month:02d}1501.csv\" \n",
    "        try:\n",
    "            s3.download_file(\n",
    "                \"newsguard-feeds\", f\"full-metadata/{year}/{month:02d}/{fname}\",\n",
    "                f\"/data/NewsGuard/full-metadata/{fname}\"\n",
    "            )\n",
    "        except Exception as e:\n",
    "            print(e)"
   ]
  },
  {
   "cell_type": "code",
   "execution_count": 6,
   "metadata": {},
   "outputs": [
    {
     "name": "stdout",
     "output_type": "stream",
     "text": [
      "2024\n",
      "\t2\n",
      "\t3\n",
      "\t4\n",
      "\t5\n",
      "\t6\n",
      "\t7\n"
     ]
    }
   ],
   "source": [
    "# for monthly snapshots beginning of month:\n",
    "for year in range(2024, 2025):\n",
    "    print(year)\n",
    "    for month in range(2, 8):\n",
    "        print(f\"\\t{month}\")\n",
    "        fname = f\"metadata-{year}{month:02d}0201.csv\" \n",
    "        try:\n",
    "            s3.download_file(\n",
    "                \"newsguard-feeds\", f\"full-metadata/{year}/{month:02d}/{fname}\",\n",
    "                f\"/data/NewsGuard/full-metadata/{fname}\"\n",
    "            )\n",
    "        except Exception as e:\n",
    "            print(e)"
   ]
  },
  {
   "cell_type": "code",
   "execution_count": 6,
   "metadata": {},
   "outputs": [
    {
     "name": "stdout",
     "output_type": "stream",
     "text": [
      "6\n",
      "\t1\n",
      "\t2\n",
      "\t3\n",
      "\t4\n",
      "\t5\n",
      "\t6\n",
      "\t7\n",
      "\t8\n",
      "\t9\n",
      "\t10\n",
      "\t11\n",
      "\t12\n",
      "\t13\n",
      "\t14\n",
      "\t15\n",
      "\t16\n",
      "\t17\n",
      "\t18\n",
      "\t19\n",
      "\t20\n",
      "\t21\n",
      "\t22\n",
      "\t23\n",
      "\t24\n",
      "\t25\n",
      "\t26\n",
      "\t27\n",
      "\t28\n",
      "\t29\n",
      "\t30\n",
      "\t31\n",
      "An error occurred (404) when calling the HeadObject operation: Not Found\n"
     ]
    }
   ],
   "source": [
    "# for daily snapshots:\n",
    "for month in range(6, 7):\n",
    "    print(f\"{month}\")\n",
    "    for day in range(1, 32):\n",
    "        print(f\"\\t{day}\")\n",
    "        fname = f\"metadata-2022{month:02d}{day:02d}01.csv\" \n",
    "\n",
    "        try:\n",
    "            s3.download_file(\n",
    "                \"newsguard-feeds\", f\"full-metadata/2022/{month:02d}/{fname}\",\n",
    "                f\"/data/NewsGuard/daily/{fname}\"\n",
    "            )\n",
    "        except Exception as e:\n",
    "            print(e)"
   ]
  }
 ],
 "metadata": {
  "kernelspec": {
   "display_name": "Python 3.9.16 ('twarcing': conda)",
   "language": "python",
   "name": "python3"
  },
  "language_info": {
   "codemirror_mode": {
    "name": "ipython",
    "version": 3
   },
   "file_extension": ".py",
   "mimetype": "text/x-python",
   "name": "python",
   "nbconvert_exporter": "python",
   "pygments_lexer": "ipython3",
   "version": "3.9.16"
  },
  "orig_nbformat": 4,
  "vscode": {
   "interpreter": {
    "hash": "122a7c3d66a4980e2f87297476027edb93bf01ec0ee08097f33b63b2d6c6ba01"
   }
  }
 },
 "nbformat": 4,
 "nbformat_minor": 2
}
