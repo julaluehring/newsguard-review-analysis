{
 "cells": [
  {
   "attachments": {},
   "cell_type": "markdown",
   "metadata": {},
   "source": [
    "## Newsguard description"
   ]
  },
  {
   "attachments": {},
   "cell_type": "markdown",
   "metadata": {},
   "source": [
    "First, let's load the files.\n",
    "Let's start with one of them.\n"
   ]
  },
  {
   "cell_type": "code",
   "execution_count": 1,
   "metadata": {},
   "outputs": [],
   "source": [
    "import os\n",
    "import pandas as pd"
   ]
  },
  {
   "cell_type": "code",
   "execution_count": 2,
   "metadata": {},
   "outputs": [],
   "source": [
    "folder_path = \"/data/NewsGuard/full-metadata\"\n",
    "csv_files = [f for f in os.listdir(folder_path) if f.endswith('.csv')]"
   ]
  },
  {
   "cell_type": "code",
   "execution_count": 3,
   "metadata": {},
   "outputs": [],
   "source": [
    "file=csv_files[0]\n",
    "df = pd.read_csv(os.path.join(folder_path, file))\n",
    "df.name=file"
   ]
  },
  {
   "cell_type": "code",
   "execution_count": 4,
   "metadata": {},
   "outputs": [
    {
     "data": {
      "text/html": [
       "<div>\n",
       "<style scoped>\n",
       "    .dataframe tbody tr th:only-of-type {\n",
       "        vertical-align: middle;\n",
       "    }\n",
       "\n",
       "    .dataframe tbody tr th {\n",
       "        vertical-align: top;\n",
       "    }\n",
       "\n",
       "    .dataframe thead th {\n",
       "        text-align: right;\n",
       "    }\n",
       "</style>\n",
       "<table border=\"1\" class=\"dataframe\">\n",
       "  <thead>\n",
       "    <tr style=\"text-align: right;\">\n",
       "      <th></th>\n",
       "      <th>UUID</th>\n",
       "      <th>Domain</th>\n",
       "      <th>Parent Domain</th>\n",
       "      <th>Rating</th>\n",
       "      <th>Score</th>\n",
       "      <th>Last Updated</th>\n",
       "      <th>Country</th>\n",
       "      <th>Language</th>\n",
       "      <th>Does not repeatedly publish false content</th>\n",
       "      <th>Gathers and presents information responsibly</th>\n",
       "      <th>...</th>\n",
       "      <th>Facebook</th>\n",
       "      <th>Twitter</th>\n",
       "      <th>Youtube</th>\n",
       "      <th>Instagram</th>\n",
       "      <th>Snapchat</th>\n",
       "      <th>LinkedIn</th>\n",
       "      <th>Pinterest</th>\n",
       "      <th>iOS App</th>\n",
       "      <th>Android App</th>\n",
       "      <th>myths</th>\n",
       "    </tr>\n",
       "  </thead>\n",
       "  <tbody>\n",
       "    <tr>\n",
       "      <th>0</th>\n",
       "      <td>512f05a7-0ce8-4c4a-b3f3-983d008cb008</td>\n",
       "      <td>cleveland.com</td>\n",
       "      <td>NaN</td>\n",
       "      <td>T</td>\n",
       "      <td>92.5</td>\n",
       "      <td>1662082072620</td>\n",
       "      <td>US</td>\n",
       "      <td>en</td>\n",
       "      <td>Yes</td>\n",
       "      <td>Yes</td>\n",
       "      <td>...</td>\n",
       "      <td>https://www.facebook.com/clevelandcom/</td>\n",
       "      <td>https://twitter.com/clevelanddotcom?ref_src=tw...</td>\n",
       "      <td>https://www.youtube.com/channel/UCJkc1COQO0WiZ...</td>\n",
       "      <td>https://www.instagram.com/clevelanddotcom/?hl=en</td>\n",
       "      <td>NaN</td>\n",
       "      <td>https://www.linkedin.com/company/cleveland-com/</td>\n",
       "      <td>https://www.pinterest.com/clevelanddotcom/</td>\n",
       "      <td>https://apps.apple.com/us/app/cleveland-com/id...</td>\n",
       "      <td>https://play.google.com/store/apps/details?id=...</td>\n",
       "      <td>NaN</td>\n",
       "    </tr>\n",
       "    <tr>\n",
       "      <th>1</th>\n",
       "      <td>3ba8f2f4-3282-4e28-b59e-bf76511e1454</td>\n",
       "      <td>wctrib.com</td>\n",
       "      <td>NaN</td>\n",
       "      <td>T</td>\n",
       "      <td>100.0</td>\n",
       "      <td>1662079570072</td>\n",
       "      <td>US</td>\n",
       "      <td>en</td>\n",
       "      <td>Yes</td>\n",
       "      <td>Yes</td>\n",
       "      <td>...</td>\n",
       "      <td>https://www.facebook.com/pg/westcentraltribune...</td>\n",
       "      <td>https://twitter.com/wctrib</td>\n",
       "      <td>https://www.youtube.com/channel/UC4Xi9zt3WlBv4...</td>\n",
       "      <td>https://www.instagram.com/wctrib/</td>\n",
       "      <td>NaN</td>\n",
       "      <td>https://www.linkedin.com/company/west-central-...</td>\n",
       "      <td>NaN</td>\n",
       "      <td>https://apps.apple.com/us/app/west-central-tri...</td>\n",
       "      <td>https://play.google.com/store/apps/details?id=...</td>\n",
       "      <td>NaN</td>\n",
       "    </tr>\n",
       "    <tr>\n",
       "      <th>2</th>\n",
       "      <td>f3ac5288-5dcd-4e49-8063-89331fab2c47</td>\n",
       "      <td>capegazette.com</td>\n",
       "      <td>NaN</td>\n",
       "      <td>T</td>\n",
       "      <td>100.0</td>\n",
       "      <td>1662075996485</td>\n",
       "      <td>US</td>\n",
       "      <td>en</td>\n",
       "      <td>Yes</td>\n",
       "      <td>Yes</td>\n",
       "      <td>...</td>\n",
       "      <td>https://www.facebook.com/CapeGazette/</td>\n",
       "      <td>https://twitter.com/CapeGazette</td>\n",
       "      <td>https://www.youtube.com/channel/UC3H52GV5a5imE...</td>\n",
       "      <td>https://www.instagram.com/capegazette</td>\n",
       "      <td>NaN</td>\n",
       "      <td>https://www.linkedin.com/company/cape-gazette/</td>\n",
       "      <td>https://www.pinterest.com/capegazette/</td>\n",
       "      <td>https://apps.apple.com/us/app/cape-gazette-eed...</td>\n",
       "      <td>https://apkpure.com/cape-gazette-eedition/com....</td>\n",
       "      <td>NaN</td>\n",
       "    </tr>\n",
       "  </tbody>\n",
       "</table>\n",
       "<p>3 rows × 46 columns</p>\n",
       "</div>"
      ],
      "text/plain": [
       "                                   UUID           Domain Parent Domain Rating  \\\n",
       "0  512f05a7-0ce8-4c4a-b3f3-983d008cb008    cleveland.com           NaN      T   \n",
       "1  3ba8f2f4-3282-4e28-b59e-bf76511e1454       wctrib.com           NaN      T   \n",
       "2  f3ac5288-5dcd-4e49-8063-89331fab2c47  capegazette.com           NaN      T   \n",
       "\n",
       "   Score   Last Updated Country Language  \\\n",
       "0   92.5  1662082072620      US       en   \n",
       "1  100.0  1662079570072      US       en   \n",
       "2  100.0  1662075996485      US       en   \n",
       "\n",
       "  Does not repeatedly publish false content  \\\n",
       "0                                       Yes   \n",
       "1                                       Yes   \n",
       "2                                       Yes   \n",
       "\n",
       "  Gathers and presents information responsibly  ...  \\\n",
       "0                                          Yes  ...   \n",
       "1                                          Yes  ...   \n",
       "2                                          Yes  ...   \n",
       "\n",
       "                                            Facebook  \\\n",
       "0             https://www.facebook.com/clevelandcom/   \n",
       "1  https://www.facebook.com/pg/westcentraltribune...   \n",
       "2              https://www.facebook.com/CapeGazette/   \n",
       "\n",
       "                                             Twitter  \\\n",
       "0  https://twitter.com/clevelanddotcom?ref_src=tw...   \n",
       "1                         https://twitter.com/wctrib   \n",
       "2                    https://twitter.com/CapeGazette   \n",
       "\n",
       "                                             Youtube  \\\n",
       "0  https://www.youtube.com/channel/UCJkc1COQO0WiZ...   \n",
       "1  https://www.youtube.com/channel/UC4Xi9zt3WlBv4...   \n",
       "2  https://www.youtube.com/channel/UC3H52GV5a5imE...   \n",
       "\n",
       "                                          Instagram Snapchat  \\\n",
       "0  https://www.instagram.com/clevelanddotcom/?hl=en      NaN   \n",
       "1                 https://www.instagram.com/wctrib/      NaN   \n",
       "2             https://www.instagram.com/capegazette      NaN   \n",
       "\n",
       "                                            LinkedIn  \\\n",
       "0    https://www.linkedin.com/company/cleveland-com/   \n",
       "1  https://www.linkedin.com/company/west-central-...   \n",
       "2     https://www.linkedin.com/company/cape-gazette/   \n",
       "\n",
       "                                    Pinterest  \\\n",
       "0  https://www.pinterest.com/clevelanddotcom/   \n",
       "1                                         NaN   \n",
       "2      https://www.pinterest.com/capegazette/   \n",
       "\n",
       "                                             iOS App  \\\n",
       "0  https://apps.apple.com/us/app/cleveland-com/id...   \n",
       "1  https://apps.apple.com/us/app/west-central-tri...   \n",
       "2  https://apps.apple.com/us/app/cape-gazette-eed...   \n",
       "\n",
       "                                         Android App myths  \n",
       "0  https://play.google.com/store/apps/details?id=...   NaN  \n",
       "1  https://play.google.com/store/apps/details?id=...   NaN  \n",
       "2  https://apkpure.com/cape-gazette-eedition/com....   NaN  \n",
       "\n",
       "[3 rows x 46 columns]"
      ]
     },
     "execution_count": 4,
     "metadata": {},
     "output_type": "execute_result"
    }
   ],
   "source": [
    "df.head(3)"
   ]
  },
  {
   "cell_type": "code",
   "execution_count": 5,
   "metadata": {},
   "outputs": [
    {
     "data": {
      "text/plain": [
       "Index(['UUID', 'Domain', 'Parent Domain', 'Rating', 'Score', 'Last Updated',\n",
       "       'Country', 'Language', 'Does not repeatedly publish false content',\n",
       "       'Gathers and presents information responsibly',\n",
       "       'Regularly corrects or clarifies errors',\n",
       "       'Handles the difference between news and opinion responsibly',\n",
       "       'Avoids deceptive headlines',\n",
       "       'Website discloses ownership and financing',\n",
       "       'Clearly labels advertising',\n",
       "       'Reveals who's in charge, including any possible conflicts of interest',\n",
       "       'The site provides names of content creators, along with either contact or biographical information',\n",
       "       'Brand Name', 'Wikipedia', 'Topics', 'Type of Content', 'Medium',\n",
       "       'Print Publications', 'Scope of Coverage', 'Designated Market Area',\n",
       "       'Paywall', 'Opinion/Advocacy Journalism', 'Orientation', 'Owner',\n",
       "       'Type of Owner', 'Flags', 'Process Information',\n",
       "       'Main Point of Contact (name)', 'Contact Phone Number', 'Contact Email',\n",
       "       'Contact Mail Form URL', 'Facebook', 'Twitter', 'Youtube', 'Instagram',\n",
       "       'Snapchat', 'LinkedIn', 'Pinterest', 'iOS App', 'Android App', 'myths'],\n",
       "      dtype='object')"
      ]
     },
     "execution_count": 5,
     "metadata": {},
     "output_type": "execute_result"
    }
   ],
   "source": [
    "df.columns"
   ]
  },
  {
   "cell_type": "code",
   "execution_count": 6,
   "metadata": {},
   "outputs": [
    {
     "data": {
      "text/plain": [
       "46"
      ]
     },
     "execution_count": 6,
     "metadata": {},
     "output_type": "execute_result"
    }
   ],
   "source": [
    "df.columns.nunique()"
   ]
  },
  {
   "cell_type": "code",
   "execution_count": 7,
   "metadata": {},
   "outputs": [
    {
     "data": {
      "text/plain": [
       "8234"
      ]
     },
     "execution_count": 7,
     "metadata": {},
     "output_type": "execute_result"
    }
   ],
   "source": [
    "df.Domain.nunique()"
   ]
  },
  {
   "cell_type": "code",
   "execution_count": 8,
   "metadata": {},
   "outputs": [
    {
     "data": {
      "text/plain": [
       "317"
      ]
     },
     "execution_count": 8,
     "metadata": {},
     "output_type": "execute_result"
    }
   ],
   "source": [
    "df[\"Parent Domain\"].nunique()"
   ]
  },
  {
   "cell_type": "code",
   "execution_count": 9,
   "metadata": {},
   "outputs": [
    {
     "data": {
      "text/plain": [
       "'metadata-2022090201.csv'"
      ]
     },
     "execution_count": 9,
     "metadata": {},
     "output_type": "execute_result"
    }
   ],
   "source": [
    "df.name"
   ]
  },
  {
   "cell_type": "code",
   "execution_count": 10,
   "metadata": {},
   "outputs": [
    {
     "name": "stdout",
     "output_type": "stream",
     "text": [
      "(9431, 46)\n"
     ]
    },
    {
     "ename": "ValueError",
     "evalue": "time data '2022090201' does not match format '%Y%m%d00' (match)",
     "output_type": "error",
     "traceback": [
      "\u001b[0;31m---------------------------------------------------------------------------\u001b[0m",
      "\u001b[0;31mTypeError\u001b[0m                                 Traceback (most recent call last)",
      "\u001b[0;32m~/.local/lib/python3.6/site-packages/pandas/core/tools/datetimes.py\u001b[0m in \u001b[0;36m_convert_listlike_datetimes\u001b[0;34m(arg, format, name, tz, unit, errors, infer_datetime_format, dayfirst, yearfirst, exact)\u001b[0m\n\u001b[1;32m    449\u001b[0m             \u001b[0;32mtry\u001b[0m\u001b[0;34m:\u001b[0m\u001b[0;34m\u001b[0m\u001b[0;34m\u001b[0m\u001b[0m\n\u001b[0;32m--> 450\u001b[0;31m                 \u001b[0mvalues\u001b[0m\u001b[0;34m,\u001b[0m \u001b[0mtz\u001b[0m \u001b[0;34m=\u001b[0m \u001b[0mconversion\u001b[0m\u001b[0;34m.\u001b[0m\u001b[0mdatetime_to_datetime64\u001b[0m\u001b[0;34m(\u001b[0m\u001b[0marg\u001b[0m\u001b[0;34m)\u001b[0m\u001b[0;34m\u001b[0m\u001b[0;34m\u001b[0m\u001b[0m\n\u001b[0m\u001b[1;32m    451\u001b[0m                 \u001b[0mdta\u001b[0m \u001b[0;34m=\u001b[0m \u001b[0mDatetimeArray\u001b[0m\u001b[0;34m(\u001b[0m\u001b[0mvalues\u001b[0m\u001b[0;34m,\u001b[0m \u001b[0mdtype\u001b[0m\u001b[0;34m=\u001b[0m\u001b[0mtz_to_dtype\u001b[0m\u001b[0;34m(\u001b[0m\u001b[0mtz\u001b[0m\u001b[0;34m)\u001b[0m\u001b[0;34m)\u001b[0m\u001b[0;34m\u001b[0m\u001b[0;34m\u001b[0m\u001b[0m\n",
      "\u001b[0;32mpandas/_libs/tslibs/conversion.pyx\u001b[0m in \u001b[0;36mpandas._libs.tslibs.conversion.datetime_to_datetime64\u001b[0;34m()\u001b[0m\n",
      "\u001b[0;31mTypeError\u001b[0m: Unrecognized value type: <class 'str'>",
      "\nDuring handling of the above exception, another exception occurred:\n",
      "\u001b[0;31mValueError\u001b[0m                                Traceback (most recent call last)",
      "\u001b[0;32m<ipython-input-10-6b26d334cec6>\u001b[0m in \u001b[0;36m<module>\u001b[0;34m\u001b[0m\n\u001b[1;32m      8\u001b[0m     \u001b[0mdf\u001b[0m\u001b[0;34m[\u001b[0m\u001b[0;34m\"file_date\"\u001b[0m\u001b[0;34m]\u001b[0m\u001b[0;34m=\u001b[0m\u001b[0mcsv\u001b[0m\u001b[0;34m.\u001b[0m\u001b[0msplit\u001b[0m\u001b[0;34m(\u001b[0m\u001b[0;34m\".\"\u001b[0m\u001b[0;34m)\u001b[0m\u001b[0;34m[\u001b[0m\u001b[0;36m0\u001b[0m\u001b[0;34m]\u001b[0m\u001b[0;34m.\u001b[0m\u001b[0msplit\u001b[0m\u001b[0;34m(\u001b[0m\u001b[0;34m\"-\"\u001b[0m\u001b[0;34m)\u001b[0m\u001b[0;34m[\u001b[0m\u001b[0;36m1\u001b[0m\u001b[0;34m]\u001b[0m\u001b[0;34m\u001b[0m\u001b[0;34m\u001b[0m\u001b[0m\n\u001b[1;32m      9\u001b[0m     \u001b[0;31m# make file_date a datetime, with the format YYYYMMDD00\u001b[0m\u001b[0;34m\u001b[0m\u001b[0;34m\u001b[0m\u001b[0;34m\u001b[0m\u001b[0m\n\u001b[0;32m---> 10\u001b[0;31m     \u001b[0mdf\u001b[0m\u001b[0;34m[\u001b[0m\u001b[0;34m\"file_date\"\u001b[0m\u001b[0;34m]\u001b[0m\u001b[0;34m=\u001b[0m\u001b[0mpd\u001b[0m\u001b[0;34m.\u001b[0m\u001b[0mto_datetime\u001b[0m\u001b[0;34m(\u001b[0m\u001b[0mdf\u001b[0m\u001b[0;34m[\u001b[0m\u001b[0;34m\"file_date\"\u001b[0m\u001b[0;34m]\u001b[0m\u001b[0;34m,\u001b[0m \u001b[0mformat\u001b[0m\u001b[0;34m=\u001b[0m\u001b[0;34m\"%Y%m%d00\"\u001b[0m\u001b[0;34m)\u001b[0m\u001b[0;34m\u001b[0m\u001b[0;34m\u001b[0m\u001b[0m\n\u001b[0m\u001b[1;32m     11\u001b[0m \u001b[0;34m\u001b[0m\u001b[0m\n\u001b[1;32m     12\u001b[0m     \u001b[0mdf_total\u001b[0m \u001b[0;34m=\u001b[0m \u001b[0mpd\u001b[0m\u001b[0;34m.\u001b[0m\u001b[0mconcat\u001b[0m\u001b[0;34m(\u001b[0m\u001b[0;34m[\u001b[0m\u001b[0mdf_total\u001b[0m\u001b[0;34m,\u001b[0m \u001b[0mdf\u001b[0m\u001b[0;34m]\u001b[0m\u001b[0;34m,\u001b[0m \u001b[0maxis\u001b[0m\u001b[0;34m=\u001b[0m\u001b[0;36m0\u001b[0m\u001b[0;34m)\u001b[0m\u001b[0;34m\u001b[0m\u001b[0;34m\u001b[0m\u001b[0m\n",
      "\u001b[0;32m~/.local/lib/python3.6/site-packages/pandas/core/tools/datetimes.py\u001b[0m in \u001b[0;36mto_datetime\u001b[0;34m(arg, errors, dayfirst, yearfirst, utc, format, exact, unit, infer_datetime_format, origin, cache)\u001b[0m\n\u001b[1;32m    797\u001b[0m                 \u001b[0mresult\u001b[0m \u001b[0;34m=\u001b[0m \u001b[0mresult\u001b[0m\u001b[0;34m.\u001b[0m\u001b[0mtz_localize\u001b[0m\u001b[0;34m(\u001b[0m\u001b[0mtz\u001b[0m\u001b[0;34m)\u001b[0m\u001b[0;34m\u001b[0m\u001b[0;34m\u001b[0m\u001b[0m\n\u001b[1;32m    798\u001b[0m     \u001b[0;32melif\u001b[0m \u001b[0misinstance\u001b[0m\u001b[0;34m(\u001b[0m\u001b[0marg\u001b[0m\u001b[0;34m,\u001b[0m \u001b[0mABCSeries\u001b[0m\u001b[0;34m)\u001b[0m\u001b[0;34m:\u001b[0m\u001b[0;34m\u001b[0m\u001b[0;34m\u001b[0m\u001b[0m\n\u001b[0;32m--> 799\u001b[0;31m         \u001b[0mcache_array\u001b[0m \u001b[0;34m=\u001b[0m \u001b[0m_maybe_cache\u001b[0m\u001b[0;34m(\u001b[0m\u001b[0marg\u001b[0m\u001b[0;34m,\u001b[0m \u001b[0mformat\u001b[0m\u001b[0;34m,\u001b[0m \u001b[0mcache\u001b[0m\u001b[0;34m,\u001b[0m \u001b[0mconvert_listlike\u001b[0m\u001b[0;34m)\u001b[0m\u001b[0;34m\u001b[0m\u001b[0;34m\u001b[0m\u001b[0m\n\u001b[0m\u001b[1;32m    800\u001b[0m         \u001b[0;32mif\u001b[0m \u001b[0;32mnot\u001b[0m \u001b[0mcache_array\u001b[0m\u001b[0;34m.\u001b[0m\u001b[0mempty\u001b[0m\u001b[0;34m:\u001b[0m\u001b[0;34m\u001b[0m\u001b[0;34m\u001b[0m\u001b[0m\n\u001b[1;32m    801\u001b[0m             \u001b[0mresult\u001b[0m \u001b[0;34m=\u001b[0m \u001b[0marg\u001b[0m\u001b[0;34m.\u001b[0m\u001b[0mmap\u001b[0m\u001b[0;34m(\u001b[0m\u001b[0mcache_array\u001b[0m\u001b[0;34m)\u001b[0m\u001b[0;34m\u001b[0m\u001b[0;34m\u001b[0m\u001b[0m\n",
      "\u001b[0;32m~/.local/lib/python3.6/site-packages/pandas/core/tools/datetimes.py\u001b[0m in \u001b[0;36m_maybe_cache\u001b[0;34m(arg, format, cache, convert_listlike)\u001b[0m\n\u001b[1;32m    168\u001b[0m         \u001b[0munique_dates\u001b[0m \u001b[0;34m=\u001b[0m \u001b[0munique\u001b[0m\u001b[0;34m(\u001b[0m\u001b[0marg\u001b[0m\u001b[0;34m)\u001b[0m\u001b[0;34m\u001b[0m\u001b[0;34m\u001b[0m\u001b[0m\n\u001b[1;32m    169\u001b[0m         \u001b[0;32mif\u001b[0m \u001b[0mlen\u001b[0m\u001b[0;34m(\u001b[0m\u001b[0munique_dates\u001b[0m\u001b[0;34m)\u001b[0m \u001b[0;34m<\u001b[0m \u001b[0mlen\u001b[0m\u001b[0;34m(\u001b[0m\u001b[0marg\u001b[0m\u001b[0;34m)\u001b[0m\u001b[0;34m:\u001b[0m\u001b[0;34m\u001b[0m\u001b[0;34m\u001b[0m\u001b[0m\n\u001b[0;32m--> 170\u001b[0;31m             \u001b[0mcache_dates\u001b[0m \u001b[0;34m=\u001b[0m \u001b[0mconvert_listlike\u001b[0m\u001b[0;34m(\u001b[0m\u001b[0munique_dates\u001b[0m\u001b[0;34m,\u001b[0m \u001b[0mformat\u001b[0m\u001b[0;34m)\u001b[0m\u001b[0;34m\u001b[0m\u001b[0;34m\u001b[0m\u001b[0m\n\u001b[0m\u001b[1;32m    171\u001b[0m             \u001b[0mcache_array\u001b[0m \u001b[0;34m=\u001b[0m \u001b[0mSeries\u001b[0m\u001b[0;34m(\u001b[0m\u001b[0mcache_dates\u001b[0m\u001b[0;34m,\u001b[0m \u001b[0mindex\u001b[0m\u001b[0;34m=\u001b[0m\u001b[0munique_dates\u001b[0m\u001b[0;34m)\u001b[0m\u001b[0;34m\u001b[0m\u001b[0;34m\u001b[0m\u001b[0m\n\u001b[1;32m    172\u001b[0m     \u001b[0;32mreturn\u001b[0m \u001b[0mcache_array\u001b[0m\u001b[0;34m\u001b[0m\u001b[0;34m\u001b[0m\u001b[0m\n",
      "\u001b[0;32m~/.local/lib/python3.6/site-packages/pandas/core/tools/datetimes.py\u001b[0m in \u001b[0;36m_convert_listlike_datetimes\u001b[0;34m(arg, format, name, tz, unit, errors, infer_datetime_format, dayfirst, yearfirst, exact)\u001b[0m\n\u001b[1;32m    452\u001b[0m                 \u001b[0;32mreturn\u001b[0m \u001b[0mDatetimeIndex\u001b[0m\u001b[0;34m.\u001b[0m\u001b[0m_simple_new\u001b[0m\u001b[0;34m(\u001b[0m\u001b[0mdta\u001b[0m\u001b[0;34m,\u001b[0m \u001b[0mname\u001b[0m\u001b[0;34m=\u001b[0m\u001b[0mname\u001b[0m\u001b[0;34m)\u001b[0m\u001b[0;34m\u001b[0m\u001b[0;34m\u001b[0m\u001b[0m\n\u001b[1;32m    453\u001b[0m             \u001b[0;32mexcept\u001b[0m \u001b[0;34m(\u001b[0m\u001b[0mValueError\u001b[0m\u001b[0;34m,\u001b[0m \u001b[0mTypeError\u001b[0m\u001b[0;34m)\u001b[0m\u001b[0;34m:\u001b[0m\u001b[0;34m\u001b[0m\u001b[0;34m\u001b[0m\u001b[0m\n\u001b[0;32m--> 454\u001b[0;31m                 \u001b[0;32mraise\u001b[0m \u001b[0me\u001b[0m\u001b[0;34m\u001b[0m\u001b[0;34m\u001b[0m\u001b[0m\n\u001b[0m\u001b[1;32m    455\u001b[0m \u001b[0;34m\u001b[0m\u001b[0m\n\u001b[1;32m    456\u001b[0m     \u001b[0;32mif\u001b[0m \u001b[0mresult\u001b[0m \u001b[0;32mis\u001b[0m \u001b[0;32mNone\u001b[0m\u001b[0;34m:\u001b[0m\u001b[0;34m\u001b[0m\u001b[0;34m\u001b[0m\u001b[0m\n",
      "\u001b[0;32m~/.local/lib/python3.6/site-packages/pandas/core/tools/datetimes.py\u001b[0m in \u001b[0;36m_convert_listlike_datetimes\u001b[0;34m(arg, format, name, tz, unit, errors, infer_datetime_format, dayfirst, yearfirst, exact)\u001b[0m\n\u001b[1;32m    416\u001b[0m                 \u001b[0;32mtry\u001b[0m\u001b[0;34m:\u001b[0m\u001b[0;34m\u001b[0m\u001b[0;34m\u001b[0m\u001b[0m\n\u001b[1;32m    417\u001b[0m                     result, timezones = array_strptime(\n\u001b[0;32m--> 418\u001b[0;31m                         \u001b[0marg\u001b[0m\u001b[0;34m,\u001b[0m \u001b[0mformat\u001b[0m\u001b[0;34m,\u001b[0m \u001b[0mexact\u001b[0m\u001b[0;34m=\u001b[0m\u001b[0mexact\u001b[0m\u001b[0;34m,\u001b[0m \u001b[0merrors\u001b[0m\u001b[0;34m=\u001b[0m\u001b[0merrors\u001b[0m\u001b[0;34m\u001b[0m\u001b[0;34m\u001b[0m\u001b[0m\n\u001b[0m\u001b[1;32m    419\u001b[0m                     )\n\u001b[1;32m    420\u001b[0m                     \u001b[0;32mif\u001b[0m \u001b[0;34m\"%Z\"\u001b[0m \u001b[0;32min\u001b[0m \u001b[0mformat\u001b[0m \u001b[0;32mor\u001b[0m \u001b[0;34m\"%z\"\u001b[0m \u001b[0;32min\u001b[0m \u001b[0mformat\u001b[0m\u001b[0;34m:\u001b[0m\u001b[0;34m\u001b[0m\u001b[0;34m\u001b[0m\u001b[0m\n",
      "\u001b[0;32mpandas/_libs/tslibs/strptime.pyx\u001b[0m in \u001b[0;36mpandas._libs.tslibs.strptime.array_strptime\u001b[0;34m()\u001b[0m\n",
      "\u001b[0;31mValueError\u001b[0m: time data '2022090201' does not match format '%Y%m%d00' (match)"
     ]
    }
   ],
   "source": [
    "df_total = pd.DataFrame()\n",
    "for csv in csv_files:\n",
    "    df = pd.read_csv(os.path.join(folder_path, csv))\n",
    "    df.name=csv\n",
    "    print(df.shape)\n",
    "    # let's add the date from the name of the file\n",
    "    # taking name of the file, removing the extension and \"metadata-\"\n",
    "    df[\"file_date\"]=csv.split(\".\")[0].split(\"-\")[1]\n",
    "    # make file_date a datetime, with the format YYYYMMDD00\n",
    "    df[\"file_date\"]=pd.to_datetime(df[\"file_date\"], format=\"%Y%m%d00\")\n",
    "    \n",
    "    df_total = pd.concat([df_total, df], axis=0)"
   ]
  },
  {
   "attachments": {},
   "cell_type": "markdown",
   "metadata": {},
   "source": [
    "The number of columns changes over time: Which ones were removed or added?"
   ]
  },
  {
   "cell_type": "code",
   "execution_count": null,
   "metadata": {},
   "outputs": [
    {
     "name": "stdout",
     "output_type": "stream",
     "text": [
      "2019030100 ['Paywall', 'Pinterest', 'Scope of Coverage', 'Snapchat', 'Wikipedia', 'YouTube']\n",
      "2021030100 ['Android App', 'Flags', 'Paywall', 'Pinterest', 'Process Information', 'Scope of Coverage', 'Snapchat', 'Topics', 'Wikipedia', 'Youtube', 'iOS App', 'myths']\n",
      "2020090100 ['Flags', 'Paywall', 'Pinterest', 'Process Information', 'Scope of Coverage', 'Snapchat', 'Topics', 'Wikipedia', 'Youtube', 'myths']\n",
      "2019090100 ['Paywall', 'Pinterest', 'Scope of Coverage', 'Snapchat', 'Wikipedia', 'YouTube']\n",
      "2021090100 ['Android App', 'Flags', 'Paywall', 'Pinterest', 'Process Information', 'Scope of Coverage', 'Snapchat', 'Topics', 'Wikipedia', 'Youtube', 'iOS App', 'myths']\n",
      "2020030100 ['Paywall', 'Pinterest', 'Scope of Coverage', 'Snapchat', 'Topics', 'Wikipedia', 'YouTube']\n",
      "2023030100 ['Android App', 'BrandGuard Segments', 'Communities Served', 'Contact Mail Form URL.1', 'False Narratives', 'Flags', 'Original Reporting', 'Other', 'Process Information', 'Targeted Audience', 'Topics', 'Youtube', 'iOS App']\n",
      "2022090100 ['Android App', 'Flags', 'Paywall', 'Pinterest', 'Process Information', 'Scope of Coverage', 'Snapchat', 'Topics', 'Wikipedia', 'Youtube', 'iOS App', 'myths']\n",
      "2022030100 ['Android App', 'Flags', 'Paywall', 'Pinterest', 'Process Information', 'Scope of Coverage', 'Snapchat', 'Topics', 'Wikipedia', 'Youtube', 'iOS App', 'myths']\n"
     ]
    }
   ],
   "source": [
    "# for all the files, compare the columns\n",
    "columns_years = {}\n",
    "for csv in csv_files:\n",
    "    df=pd.read_csv(os.path.join(folder_path, csv))\n",
    "    columns_years[csv.split(\".\")[0].split(\"-\")[1]]=df.columns # saving a dict with the year/month as key and the columns as value to compare them\n",
    "# substracting the columns common to all the files\n",
    "always_present_columns = set.intersection(*map(set, columns_years.values()))\n",
    "# removing the columns that are always present from the columns of each file\n",
    "for year in columns_years.keys():\n",
    "    columns_years[year]=list(set(columns_years[year])-always_present_columns)\n",
    "# lets show the remaining columns over the years\n",
    "for year in columns_years.keys():\n",
    "    columns_years[year].sort()\n",
    "    print(year, columns_years[year])"
   ]
  },
  {
   "cell_type": "code",
   "execution_count": null,
   "metadata": {},
   "outputs": [
    {
     "data": {
      "text/plain": [
       "34"
      ]
     },
     "execution_count": 12,
     "metadata": {},
     "output_type": "execute_result"
    }
   ],
   "source": [
    "len(always_present_columns)"
   ]
  },
  {
   "cell_type": "code",
   "execution_count": null,
   "metadata": {},
   "outputs": [
    {
     "data": {
      "text/plain": [
       "Index(['UUID', 'Domain', 'Parent Domain', 'Rating', 'Score', 'Last Updated',\n",
       "       'Country', 'Language', 'Does not repeatedly publish false content',\n",
       "       'Gathers and presents information responsibly',\n",
       "       'Regularly corrects or clarifies errors',\n",
       "       'Handles the difference between news and opinion responsibly',\n",
       "       'Avoids deceptive headlines',\n",
       "       'Website discloses ownership and financing',\n",
       "       'Clearly labels advertising',\n",
       "       'Reveals who's in charge, including any possible conflicts of interest',\n",
       "       'The site provides names of content creators, along with either contact or biographical information',\n",
       "       'Brand Name', 'Wikipedia', 'Type of Content', 'Medium',\n",
       "       'Print Publications', 'Scope of Coverage', 'Designated Market Area',\n",
       "       'Paywall', 'Opinion/Advocacy Journalism', 'Orientation', 'Owner',\n",
       "       'Type of Owner', 'Facebook', 'Twitter', 'YouTube', 'Instagram',\n",
       "       'Snapchat', 'LinkedIn', 'Pinterest', 'Main Point of Contact (name)',\n",
       "       'Contact Phone Number', 'Contact Email', 'Contact Mail Form URL',\n",
       "       'file_date', 'Topics', 'Flags', 'Process Information', 'Youtube',\n",
       "       'iOS App', 'Android App', 'myths', 'Original Reporting',\n",
       "       'Targeted Audience', 'Contact Mail Form URL.1', 'Other',\n",
       "       'False Narratives', 'Communities Served', 'BrandGuard Segments'],\n",
       "      dtype='object')"
      ]
     },
     "execution_count": 13,
     "metadata": {},
     "output_type": "execute_result"
    }
   ],
   "source": [
    "df_total.columns"
   ]
  },
  {
   "cell_type": "code",
   "execution_count": null,
   "metadata": {},
   "outputs": [
    {
     "data": {
      "text/html": [
       "<div>\n",
       "<style scoped>\n",
       "    .dataframe tbody tr th:only-of-type {\n",
       "        vertical-align: middle;\n",
       "    }\n",
       "\n",
       "    .dataframe tbody tr th {\n",
       "        vertical-align: top;\n",
       "    }\n",
       "\n",
       "    .dataframe thead th {\n",
       "        text-align: right;\n",
       "    }\n",
       "</style>\n",
       "<table border=\"1\" class=\"dataframe\">\n",
       "  <thead>\n",
       "    <tr style=\"text-align: right;\">\n",
       "      <th></th>\n",
       "      <th>UUID</th>\n",
       "      <th>Domain</th>\n",
       "      <th>Parent Domain</th>\n",
       "      <th>Rating</th>\n",
       "      <th>Score</th>\n",
       "      <th>Last Updated</th>\n",
       "      <th>Country</th>\n",
       "      <th>Language</th>\n",
       "      <th>Does not repeatedly publish false content</th>\n",
       "      <th>Gathers and presents information responsibly</th>\n",
       "      <th>...</th>\n",
       "      <th>iOS App</th>\n",
       "      <th>Android App</th>\n",
       "      <th>myths</th>\n",
       "      <th>Original Reporting</th>\n",
       "      <th>Targeted Audience</th>\n",
       "      <th>Contact Mail Form URL.1</th>\n",
       "      <th>Other</th>\n",
       "      <th>False Narratives</th>\n",
       "      <th>Communities Served</th>\n",
       "      <th>BrandGuard Segments</th>\n",
       "    </tr>\n",
       "  </thead>\n",
       "  <tbody>\n",
       "    <tr>\n",
       "      <th>0</th>\n",
       "      <td>35f341f9-d2c2-4d8f-9a00-910725e9647b</td>\n",
       "      <td>cbc.ca</td>\n",
       "      <td>NaN</td>\n",
       "      <td>T</td>\n",
       "      <td>100.0</td>\n",
       "      <td>1532095397020</td>\n",
       "      <td>US</td>\n",
       "      <td>en</td>\n",
       "      <td>Yes</td>\n",
       "      <td>Yes</td>\n",
       "      <td>...</td>\n",
       "      <td>NaN</td>\n",
       "      <td>NaN</td>\n",
       "      <td>NaN</td>\n",
       "      <td>NaN</td>\n",
       "      <td>NaN</td>\n",
       "      <td>NaN</td>\n",
       "      <td>NaN</td>\n",
       "      <td>NaN</td>\n",
       "      <td>NaN</td>\n",
       "      <td>NaN</td>\n",
       "    </tr>\n",
       "    <tr>\n",
       "      <th>1</th>\n",
       "      <td>0c0e5e84-0b5c-47ff-bff4-94e987771e16</td>\n",
       "      <td>bitraped.com</td>\n",
       "      <td>naturalnews.com</td>\n",
       "      <td>N</td>\n",
       "      <td>12.5</td>\n",
       "      <td>1551286266563</td>\n",
       "      <td>US</td>\n",
       "      <td>en</td>\n",
       "      <td>No</td>\n",
       "      <td>No</td>\n",
       "      <td>...</td>\n",
       "      <td>NaN</td>\n",
       "      <td>NaN</td>\n",
       "      <td>NaN</td>\n",
       "      <td>NaN</td>\n",
       "      <td>NaN</td>\n",
       "      <td>NaN</td>\n",
       "      <td>NaN</td>\n",
       "      <td>NaN</td>\n",
       "      <td>NaN</td>\n",
       "      <td>NaN</td>\n",
       "    </tr>\n",
       "    <tr>\n",
       "      <th>2</th>\n",
       "      <td>3ee37011-ba1f-4435-93d3-c72b59972b92</td>\n",
       "      <td>vogue.com</td>\n",
       "      <td>NaN</td>\n",
       "      <td>T</td>\n",
       "      <td>87.5</td>\n",
       "      <td>1532095401115</td>\n",
       "      <td>US</td>\n",
       "      <td>en</td>\n",
       "      <td>Yes</td>\n",
       "      <td>Yes</td>\n",
       "      <td>...</td>\n",
       "      <td>NaN</td>\n",
       "      <td>NaN</td>\n",
       "      <td>NaN</td>\n",
       "      <td>NaN</td>\n",
       "      <td>NaN</td>\n",
       "      <td>NaN</td>\n",
       "      <td>NaN</td>\n",
       "      <td>NaN</td>\n",
       "      <td>NaN</td>\n",
       "      <td>NaN</td>\n",
       "    </tr>\n",
       "    <tr>\n",
       "      <th>3</th>\n",
       "      <td>33b3a070-62e2-42f5-b814-600784eb2402</td>\n",
       "      <td>foodscience.news</td>\n",
       "      <td>naturalnews.com</td>\n",
       "      <td>N</td>\n",
       "      <td>12.5</td>\n",
       "      <td>1551286316472</td>\n",
       "      <td>US</td>\n",
       "      <td>en</td>\n",
       "      <td>No</td>\n",
       "      <td>No</td>\n",
       "      <td>...</td>\n",
       "      <td>NaN</td>\n",
       "      <td>NaN</td>\n",
       "      <td>NaN</td>\n",
       "      <td>NaN</td>\n",
       "      <td>NaN</td>\n",
       "      <td>NaN</td>\n",
       "      <td>NaN</td>\n",
       "      <td>NaN</td>\n",
       "      <td>NaN</td>\n",
       "      <td>NaN</td>\n",
       "    </tr>\n",
       "    <tr>\n",
       "      <th>4</th>\n",
       "      <td>95d6acf5-a5cc-4cea-b34f-2431000b7391</td>\n",
       "      <td>stripes.com</td>\n",
       "      <td>NaN</td>\n",
       "      <td>T</td>\n",
       "      <td>100.0</td>\n",
       "      <td>1532095405883</td>\n",
       "      <td>US</td>\n",
       "      <td>en</td>\n",
       "      <td>Yes</td>\n",
       "      <td>Yes</td>\n",
       "      <td>...</td>\n",
       "      <td>NaN</td>\n",
       "      <td>NaN</td>\n",
       "      <td>NaN</td>\n",
       "      <td>NaN</td>\n",
       "      <td>NaN</td>\n",
       "      <td>NaN</td>\n",
       "      <td>NaN</td>\n",
       "      <td>NaN</td>\n",
       "      <td>NaN</td>\n",
       "      <td>NaN</td>\n",
       "    </tr>\n",
       "  </tbody>\n",
       "</table>\n",
       "<p>5 rows × 55 columns</p>\n",
       "</div>"
      ],
      "text/plain": [
       "                                   UUID            Domain    Parent Domain  \\\n",
       "0  35f341f9-d2c2-4d8f-9a00-910725e9647b            cbc.ca              NaN   \n",
       "1  0c0e5e84-0b5c-47ff-bff4-94e987771e16      bitraped.com  naturalnews.com   \n",
       "2  3ee37011-ba1f-4435-93d3-c72b59972b92         vogue.com              NaN   \n",
       "3  33b3a070-62e2-42f5-b814-600784eb2402  foodscience.news  naturalnews.com   \n",
       "4  95d6acf5-a5cc-4cea-b34f-2431000b7391       stripes.com              NaN   \n",
       "\n",
       "  Rating  Score   Last Updated Country Language  \\\n",
       "0      T  100.0  1532095397020      US       en   \n",
       "1      N   12.5  1551286266563      US       en   \n",
       "2      T   87.5  1532095401115      US       en   \n",
       "3      N   12.5  1551286316472      US       en   \n",
       "4      T  100.0  1532095405883      US       en   \n",
       "\n",
       "  Does not repeatedly publish false content  \\\n",
       "0                                       Yes   \n",
       "1                                        No   \n",
       "2                                       Yes   \n",
       "3                                        No   \n",
       "4                                       Yes   \n",
       "\n",
       "  Gathers and presents information responsibly  ... iOS App Android App myths  \\\n",
       "0                                          Yes  ...     NaN         NaN   NaN   \n",
       "1                                           No  ...     NaN         NaN   NaN   \n",
       "2                                          Yes  ...     NaN         NaN   NaN   \n",
       "3                                           No  ...     NaN         NaN   NaN   \n",
       "4                                          Yes  ...     NaN         NaN   NaN   \n",
       "\n",
       "  Original Reporting Targeted Audience Contact Mail Form URL.1 Other  \\\n",
       "0                NaN               NaN                     NaN   NaN   \n",
       "1                NaN               NaN                     NaN   NaN   \n",
       "2                NaN               NaN                     NaN   NaN   \n",
       "3                NaN               NaN                     NaN   NaN   \n",
       "4                NaN               NaN                     NaN   NaN   \n",
       "\n",
       "  False Narratives Communities Served BrandGuard Segments  \n",
       "0              NaN                NaN                 NaN  \n",
       "1              NaN                NaN                 NaN  \n",
       "2              NaN                NaN                 NaN  \n",
       "3              NaN                NaN                 NaN  \n",
       "4              NaN                NaN                 NaN  \n",
       "\n",
       "[5 rows x 55 columns]"
      ]
     },
     "execution_count": 14,
     "metadata": {},
     "output_type": "execute_result"
    }
   ],
   "source": [
    "df_total.head()"
   ]
  },
  {
   "cell_type": "code",
   "execution_count": null,
   "metadata": {},
   "outputs": [],
   "source": [
    "# save the dataframe to csv\n",
    "file=\"newsguard_merged.csv\"\n",
    "df_total.to_csv(os.path.join(folder_path, file))"
   ]
  }
 ],
 "metadata": {
  "kernelspec": {
   "display_name": "Python 3.6.8 64-bit",
   "language": "python",
   "name": "python3"
  },
  "language_info": {
   "codemirror_mode": {
    "name": "ipython",
    "version": 3
   },
   "file_extension": ".py",
   "mimetype": "text/x-python",
   "name": "python",
   "nbconvert_exporter": "python",
   "pygments_lexer": "ipython3",
   "version": "3.6.8"
  },
  "orig_nbformat": 4,
  "vscode": {
   "interpreter": {
    "hash": "916dbcbb3f70747c44a77c7bcd40155683ae19c65e1c03b4aa3499c5328201f1"
   }
  }
 },
 "nbformat": 4,
 "nbformat_minor": 2
}
