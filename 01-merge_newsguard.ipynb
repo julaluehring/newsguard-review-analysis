{
 "cells": [
  {
   "attachments": {},
   "cell_type": "markdown",
   "metadata": {},
   "source": [
    "## Newsguard file exploration and merge"
   ]
  },
  {
   "attachments": {},
   "cell_type": "markdown",
   "metadata": {},
   "source": [
    "First, let's load the files.\n",
    "Let's start with one of them.\n"
   ]
  },
  {
   "cell_type": "code",
   "execution_count": 1,
   "metadata": {},
   "outputs": [],
   "source": [
    "import os\n",
    "import pandas as pd"
   ]
  },
  {
   "cell_type": "code",
   "execution_count": 2,
   "metadata": {},
   "outputs": [],
   "source": [
    "folder_path = \"/data/NewsGuard/full-metadata\"\n",
    "csv_files = [f for f in os.listdir(folder_path) if f.endswith('.csv')]"
   ]
  },
  {
   "cell_type": "code",
   "execution_count": 3,
   "metadata": {},
   "outputs": [],
   "source": [
    "file=csv_files[0]\n",
    "df = pd.read_csv(os.path.join(folder_path, file))\n",
    "df.name=file"
   ]
  },
  {
   "cell_type": "code",
   "execution_count": 4,
   "metadata": {},
   "outputs": [
    {
     "data": {
      "text/html": [
       "<div>\n",
       "<style scoped>\n",
       "    .dataframe tbody tr th:only-of-type {\n",
       "        vertical-align: middle;\n",
       "    }\n",
       "\n",
       "    .dataframe tbody tr th {\n",
       "        vertical-align: top;\n",
       "    }\n",
       "\n",
       "    .dataframe thead th {\n",
       "        text-align: right;\n",
       "    }\n",
       "</style>\n",
       "<table border=\"1\" class=\"dataframe\">\n",
       "  <thead>\n",
       "    <tr style=\"text-align: right;\">\n",
       "      <th></th>\n",
       "      <th>UUID</th>\n",
       "      <th>Domain</th>\n",
       "      <th>Parent Domain</th>\n",
       "      <th>Rating</th>\n",
       "      <th>Score</th>\n",
       "      <th>Last Updated</th>\n",
       "      <th>Country</th>\n",
       "      <th>Language</th>\n",
       "      <th>Does not repeatedly publish false content</th>\n",
       "      <th>Gathers and presents information responsibly</th>\n",
       "      <th>...</th>\n",
       "      <th>Facebook</th>\n",
       "      <th>Twitter</th>\n",
       "      <th>Youtube</th>\n",
       "      <th>Instagram</th>\n",
       "      <th>Snapchat</th>\n",
       "      <th>LinkedIn</th>\n",
       "      <th>Pinterest</th>\n",
       "      <th>iOS App</th>\n",
       "      <th>Android App</th>\n",
       "      <th>myths</th>\n",
       "    </tr>\n",
       "  </thead>\n",
       "  <tbody>\n",
       "    <tr>\n",
       "      <th>0</th>\n",
       "      <td>512f05a7-0ce8-4c4a-b3f3-983d008cb008</td>\n",
       "      <td>cleveland.com</td>\n",
       "      <td>NaN</td>\n",
       "      <td>T</td>\n",
       "      <td>92.5</td>\n",
       "      <td>1662082072620</td>\n",
       "      <td>US</td>\n",
       "      <td>en</td>\n",
       "      <td>Yes</td>\n",
       "      <td>Yes</td>\n",
       "      <td>...</td>\n",
       "      <td>https://www.facebook.com/clevelandcom/</td>\n",
       "      <td>https://twitter.com/clevelanddotcom?ref_src=tw...</td>\n",
       "      <td>https://www.youtube.com/channel/UCJkc1COQO0WiZ...</td>\n",
       "      <td>https://www.instagram.com/clevelanddotcom/?hl=en</td>\n",
       "      <td>NaN</td>\n",
       "      <td>https://www.linkedin.com/company/cleveland-com/</td>\n",
       "      <td>https://www.pinterest.com/clevelanddotcom/</td>\n",
       "      <td>https://apps.apple.com/us/app/cleveland-com/id...</td>\n",
       "      <td>https://play.google.com/store/apps/details?id=...</td>\n",
       "      <td>NaN</td>\n",
       "    </tr>\n",
       "    <tr>\n",
       "      <th>1</th>\n",
       "      <td>3ba8f2f4-3282-4e28-b59e-bf76511e1454</td>\n",
       "      <td>wctrib.com</td>\n",
       "      <td>NaN</td>\n",
       "      <td>T</td>\n",
       "      <td>100.0</td>\n",
       "      <td>1662079570072</td>\n",
       "      <td>US</td>\n",
       "      <td>en</td>\n",
       "      <td>Yes</td>\n",
       "      <td>Yes</td>\n",
       "      <td>...</td>\n",
       "      <td>https://www.facebook.com/pg/westcentraltribune...</td>\n",
       "      <td>https://twitter.com/wctrib</td>\n",
       "      <td>https://www.youtube.com/channel/UC4Xi9zt3WlBv4...</td>\n",
       "      <td>https://www.instagram.com/wctrib/</td>\n",
       "      <td>NaN</td>\n",
       "      <td>https://www.linkedin.com/company/west-central-...</td>\n",
       "      <td>NaN</td>\n",
       "      <td>https://apps.apple.com/us/app/west-central-tri...</td>\n",
       "      <td>https://play.google.com/store/apps/details?id=...</td>\n",
       "      <td>NaN</td>\n",
       "    </tr>\n",
       "    <tr>\n",
       "      <th>2</th>\n",
       "      <td>f3ac5288-5dcd-4e49-8063-89331fab2c47</td>\n",
       "      <td>capegazette.com</td>\n",
       "      <td>NaN</td>\n",
       "      <td>T</td>\n",
       "      <td>100.0</td>\n",
       "      <td>1662075996485</td>\n",
       "      <td>US</td>\n",
       "      <td>en</td>\n",
       "      <td>Yes</td>\n",
       "      <td>Yes</td>\n",
       "      <td>...</td>\n",
       "      <td>https://www.facebook.com/CapeGazette/</td>\n",
       "      <td>https://twitter.com/CapeGazette</td>\n",
       "      <td>https://www.youtube.com/channel/UC3H52GV5a5imE...</td>\n",
       "      <td>https://www.instagram.com/capegazette</td>\n",
       "      <td>NaN</td>\n",
       "      <td>https://www.linkedin.com/company/cape-gazette/</td>\n",
       "      <td>https://www.pinterest.com/capegazette/</td>\n",
       "      <td>https://apps.apple.com/us/app/cape-gazette-eed...</td>\n",
       "      <td>https://apkpure.com/cape-gazette-eedition/com....</td>\n",
       "      <td>NaN</td>\n",
       "    </tr>\n",
       "  </tbody>\n",
       "</table>\n",
       "<p>3 rows × 46 columns</p>\n",
       "</div>"
      ],
      "text/plain": [
       "                                   UUID           Domain Parent Domain Rating  \\\n",
       "0  512f05a7-0ce8-4c4a-b3f3-983d008cb008    cleveland.com           NaN      T   \n",
       "1  3ba8f2f4-3282-4e28-b59e-bf76511e1454       wctrib.com           NaN      T   \n",
       "2  f3ac5288-5dcd-4e49-8063-89331fab2c47  capegazette.com           NaN      T   \n",
       "\n",
       "   Score   Last Updated Country Language  \\\n",
       "0   92.5  1662082072620      US       en   \n",
       "1  100.0  1662079570072      US       en   \n",
       "2  100.0  1662075996485      US       en   \n",
       "\n",
       "  Does not repeatedly publish false content  \\\n",
       "0                                       Yes   \n",
       "1                                       Yes   \n",
       "2                                       Yes   \n",
       "\n",
       "  Gathers and presents information responsibly  ...  \\\n",
       "0                                          Yes  ...   \n",
       "1                                          Yes  ...   \n",
       "2                                          Yes  ...   \n",
       "\n",
       "                                            Facebook  \\\n",
       "0             https://www.facebook.com/clevelandcom/   \n",
       "1  https://www.facebook.com/pg/westcentraltribune...   \n",
       "2              https://www.facebook.com/CapeGazette/   \n",
       "\n",
       "                                             Twitter  \\\n",
       "0  https://twitter.com/clevelanddotcom?ref_src=tw...   \n",
       "1                         https://twitter.com/wctrib   \n",
       "2                    https://twitter.com/CapeGazette   \n",
       "\n",
       "                                             Youtube  \\\n",
       "0  https://www.youtube.com/channel/UCJkc1COQO0WiZ...   \n",
       "1  https://www.youtube.com/channel/UC4Xi9zt3WlBv4...   \n",
       "2  https://www.youtube.com/channel/UC3H52GV5a5imE...   \n",
       "\n",
       "                                          Instagram Snapchat  \\\n",
       "0  https://www.instagram.com/clevelanddotcom/?hl=en      NaN   \n",
       "1                 https://www.instagram.com/wctrib/      NaN   \n",
       "2             https://www.instagram.com/capegazette      NaN   \n",
       "\n",
       "                                            LinkedIn  \\\n",
       "0    https://www.linkedin.com/company/cleveland-com/   \n",
       "1  https://www.linkedin.com/company/west-central-...   \n",
       "2     https://www.linkedin.com/company/cape-gazette/   \n",
       "\n",
       "                                    Pinterest  \\\n",
       "0  https://www.pinterest.com/clevelanddotcom/   \n",
       "1                                         NaN   \n",
       "2      https://www.pinterest.com/capegazette/   \n",
       "\n",
       "                                             iOS App  \\\n",
       "0  https://apps.apple.com/us/app/cleveland-com/id...   \n",
       "1  https://apps.apple.com/us/app/west-central-tri...   \n",
       "2  https://apps.apple.com/us/app/cape-gazette-eed...   \n",
       "\n",
       "                                         Android App myths  \n",
       "0  https://play.google.com/store/apps/details?id=...   NaN  \n",
       "1  https://play.google.com/store/apps/details?id=...   NaN  \n",
       "2  https://apkpure.com/cape-gazette-eedition/com....   NaN  \n",
       "\n",
       "[3 rows x 46 columns]"
      ]
     },
     "execution_count": 4,
     "metadata": {},
     "output_type": "execute_result"
    }
   ],
   "source": [
    "df.head(3)"
   ]
  },
  {
   "cell_type": "code",
   "execution_count": 5,
   "metadata": {},
   "outputs": [
    {
     "data": {
      "text/plain": [
       "Index(['UUID', 'Domain', 'Parent Domain', 'Rating', 'Score', 'Last Updated',\n",
       "       'Country', 'Language', 'Does not repeatedly publish false content',\n",
       "       'Gathers and presents information responsibly',\n",
       "       'Regularly corrects or clarifies errors',\n",
       "       'Handles the difference between news and opinion responsibly',\n",
       "       'Avoids deceptive headlines',\n",
       "       'Website discloses ownership and financing',\n",
       "       'Clearly labels advertising',\n",
       "       'Reveals who's in charge, including any possible conflicts of interest',\n",
       "       'The site provides names of content creators, along with either contact or biographical information',\n",
       "       'Brand Name', 'Wikipedia', 'Topics', 'Type of Content', 'Medium',\n",
       "       'Print Publications', 'Scope of Coverage', 'Designated Market Area',\n",
       "       'Paywall', 'Opinion/Advocacy Journalism', 'Orientation', 'Owner',\n",
       "       'Type of Owner', 'Flags', 'Process Information',\n",
       "       'Main Point of Contact (name)', 'Contact Phone Number', 'Contact Email',\n",
       "       'Contact Mail Form URL', 'Facebook', 'Twitter', 'Youtube', 'Instagram',\n",
       "       'Snapchat', 'LinkedIn', 'Pinterest', 'iOS App', 'Android App', 'myths'],\n",
       "      dtype='object')"
      ]
     },
     "execution_count": 5,
     "metadata": {},
     "output_type": "execute_result"
    }
   ],
   "source": [
    "df.columns"
   ]
  },
  {
   "cell_type": "code",
   "execution_count": 6,
   "metadata": {},
   "outputs": [
    {
     "data": {
      "text/plain": [
       "46"
      ]
     },
     "execution_count": 6,
     "metadata": {},
     "output_type": "execute_result"
    }
   ],
   "source": [
    "df.columns.nunique()"
   ]
  },
  {
   "cell_type": "code",
   "execution_count": 7,
   "metadata": {},
   "outputs": [
    {
     "data": {
      "text/plain": [
       "8234"
      ]
     },
     "execution_count": 7,
     "metadata": {},
     "output_type": "execute_result"
    }
   ],
   "source": [
    "df.Domain.nunique()"
   ]
  },
  {
   "cell_type": "code",
   "execution_count": 8,
   "metadata": {},
   "outputs": [
    {
     "data": {
      "text/plain": [
       "317"
      ]
     },
     "execution_count": 8,
     "metadata": {},
     "output_type": "execute_result"
    }
   ],
   "source": [
    "df[\"Parent Domain\"].nunique()"
   ]
  },
  {
   "cell_type": "code",
   "execution_count": 9,
   "metadata": {},
   "outputs": [
    {
     "data": {
      "text/plain": [
       "'metadata-2022090201.csv'"
      ]
     },
     "execution_count": 9,
     "metadata": {},
     "output_type": "execute_result"
    }
   ],
   "source": [
    "df.name"
   ]
  },
  {
   "cell_type": "code",
   "execution_count": 12,
   "metadata": {},
   "outputs": [
    {
     "name": "stdout",
     "output_type": "stream",
     "text": [
      "(9431, 46)\n",
      "(2628, 40)\n",
      "(9318, 46)\n",
      "(2698, 40)\n",
      "(9577, 47)\n",
      "(2836, 40)\n",
      "(9721, 47)\n",
      "(3328, 40)\n",
      "(10029, 47)\n",
      "(3535, 40)\n",
      "(10178, 47)\n",
      "(3813, 40)\n",
      "(10230, 47)\n",
      "(4029, 40)\n",
      "(10432, 47)\n",
      "(4204, 41)\n",
      "(10544, 47)\n",
      "(4375, 41)\n",
      "(10898, 47)\n",
      "(4472, 41)\n",
      "(11058, 47)\n",
      "(4664, 41)\n",
      "(11132, 47)\n",
      "(4825, 41)\n",
      "(4885, 41)\n",
      "(4982, 41)\n",
      "(5075, 41)\n",
      "(5113, 41)\n",
      "(5350, 41)\n",
      "(5651, 43)\n",
      "(6772, 44)\n",
      "(6839, 44)\n",
      "(6921, 44)\n",
      "(6877, 44)\n",
      "(7044, 46)\n",
      "(7085, 46)\n",
      "(7132, 46)\n",
      "(7200, 46)\n",
      "(7258, 46)\n",
      "(7324, 46)\n",
      "(7431, 46)\n",
      "(7488, 46)\n",
      "(7662, 46)\n",
      "(7838, 46)\n",
      "(8152, 46)\n",
      "(8211, 46)\n",
      "(8239, 46)\n",
      "(8569, 46)\n",
      "(8712, 46)\n",
      "(8845, 46)\n",
      "(5232, 46)\n",
      "(8929, 46)\n",
      "(9057, 46)\n",
      "(9793, 44)\n",
      "(9852, 47)\n",
      "(9894, 47)\n",
      "(9928, 47)\n"
     ]
    }
   ],
   "source": [
    "df_total = pd.DataFrame()\n",
    "for csv in csv_files:\n",
    "    df = pd.read_csv(os.path.join(folder_path, csv))\n",
    "    df.name=csv\n",
    "    print(df.shape)\n",
    "    # let's add the date from the name of the file\n",
    "    # taking name of the file, removing the extension and \"metadata-\"\n",
    "    df[\"file_date\"]=csv.split(\".\")[0].split(\"-\")[1]\n",
    "    # make file_date a datetime, with the format YYYYMMDD00\n",
    "    df[\"file_date\"]=pd.to_datetime(df[\"file_date\"], format=\"%Y%m%d%H\")\n",
    "    \n",
    "    df_total = pd.concat([df_total, df], axis=0)"
   ]
  },
  {
   "attachments": {},
   "cell_type": "markdown",
   "metadata": {},
   "source": [
    "The number of columns changes over time: Which ones were removed or added?"
   ]
  },
  {
   "cell_type": "code",
   "execution_count": 13,
   "metadata": {},
   "outputs": [
    {
     "name": "stdout",
     "output_type": "stream",
     "text": [
      "2022090201 ['Android App', 'Flags', 'Paywall', 'Pinterest', 'Process Information', 'Scope of Coverage', 'Snapchat', 'Topics', 'Wikipedia', 'Youtube', 'iOS App', 'myths']\n",
      "2019030201 ['Paywall', 'Pinterest', 'Scope of Coverage', 'Snapchat', 'Wikipedia', 'YouTube']\n",
      "2022080201 ['Android App', 'Flags', 'Paywall', 'Pinterest', 'Process Information', 'Scope of Coverage', 'Snapchat', 'Topics', 'Wikipedia', 'Youtube', 'iOS App', 'myths']\n",
      "2019040201 ['Paywall', 'Pinterest', 'Scope of Coverage', 'Snapchat', 'Wikipedia', 'YouTube']\n",
      "2022100201 ['Android App', 'Flags', 'Other', 'Paywall', 'Pinterest', 'Process Information', 'Scope of Coverage', 'Snapchat', 'Topics', 'Wikipedia', 'Youtube', 'iOS App', 'myths']\n",
      "2019050201 ['Paywall', 'Pinterest', 'Scope of Coverage', 'Snapchat', 'Wikipedia', 'YouTube']\n",
      "2022110201 ['Android App', 'Flags', 'Other', 'Paywall', 'Pinterest', 'Process Information', 'Scope of Coverage', 'Snapchat', 'Topics', 'Wikipedia', 'Youtube', 'iOS App', 'myths']\n",
      "2019060201 ['Paywall', 'Pinterest', 'Scope of Coverage', 'Snapchat', 'Wikipedia', 'YouTube']\n",
      "2023040201 ['Android App', 'BrandGuard Segments', 'Communities Served', 'Contact Mail Form URL.1', 'False Narratives', 'Flags', 'Original Reporting', 'Other', 'Process Information', 'Targeted Audience', 'Topics', 'Youtube', 'iOS App']\n",
      "2019070201 ['Paywall', 'Pinterest', 'Scope of Coverage', 'Snapchat', 'Wikipedia', 'YouTube']\n",
      "2023050201 ['Android App', 'BrandGuard Segments', 'Communities Served', 'Contact Mail Form URL.1', 'False Narratives', 'Flags', 'Original Reporting', 'Other', 'Process Information', 'Targeted Audience', 'Topics', 'Youtube', 'iOS App']\n",
      "2019080201 ['Paywall', 'Pinterest', 'Scope of Coverage', 'Snapchat', 'Wikipedia', 'YouTube']\n",
      "2023060201 ['Android App', 'BrandGuard Segments', 'Communities Served', 'Contact Mail Form URL.1', 'False Narratives', 'Flags', 'Original Reporting', 'Other', 'Process Information', 'Targeted Audience', 'Topics', 'Youtube', 'iOS App']\n",
      "2019090201 ['Paywall', 'Pinterest', 'Scope of Coverage', 'Snapchat', 'Wikipedia', 'YouTube']\n",
      "2023070201 ['Android App', 'BrandGuard Segments', 'Communities Served', 'Contact Mail Form URL.1', 'False Narratives', 'Flags', 'Original Reporting', 'Other', 'Process Information', 'Targeted Audience', 'Topics', 'Youtube', 'iOS App']\n",
      "2019100201 ['Paywall', 'Pinterest', 'Scope of Coverage', 'Snapchat', 'Topics', 'Wikipedia', 'YouTube']\n",
      "2023080201 ['Android App', 'BrandGuard Segments', 'Communities Served', 'Contact Mail Form URL.1', 'False Narratives', 'Flags', 'Original Reporting', 'Other', 'Process Information', 'Targeted Audience', 'Topics', 'Youtube', 'iOS App']\n",
      "2019110201 ['Paywall', 'Pinterest', 'Scope of Coverage', 'Snapchat', 'Topics', 'Wikipedia', 'YouTube']\n",
      "2023090201 ['Android App', 'BrandGuard Segments', 'Communities Served', 'Contact Mail Form URL.1', 'False Narratives', 'Flags', 'Original Reporting', 'Other', 'Process Information', 'Targeted Audience', 'Topics', 'Youtube', 'iOS App']\n",
      "2019120201 ['Paywall', 'Pinterest', 'Scope of Coverage', 'Snapchat', 'Topics', 'Wikipedia', 'YouTube']\n",
      "2023100201 ['Android App', 'BrandGuard Segments', 'Communities Served', 'Contact Mail Form URL.1', 'False Narratives', 'Flags', 'Original Reporting', 'Other', 'Process Information', 'Targeted Audience', 'Topics', 'Youtube', 'iOS App']\n",
      "2020010201 ['Paywall', 'Pinterest', 'Scope of Coverage', 'Snapchat', 'Topics', 'Wikipedia', 'YouTube']\n",
      "2023110201 ['Android App', 'BrandGuard Segments', 'Communities Served', 'Contact Mail Form URL.1', 'False Narratives', 'Flags', 'Original Reporting', 'Other', 'Process Information', 'Targeted Audience', 'Topics', 'Youtube', 'iOS App']\n",
      "2020020201 ['Paywall', 'Pinterest', 'Scope of Coverage', 'Snapchat', 'Topics', 'Wikipedia', 'YouTube']\n",
      "2020030201 ['Paywall', 'Pinterest', 'Scope of Coverage', 'Snapchat', 'Topics', 'Wikipedia', 'YouTube']\n",
      "2020040201 ['Paywall', 'Pinterest', 'Scope of Coverage', 'Snapchat', 'Topics', 'Wikipedia', 'YouTube']\n",
      "2020050201 ['Paywall', 'Pinterest', 'Scope of Coverage', 'Snapchat', 'Topics', 'Wikipedia', 'YouTube']\n",
      "2020060201 ['Paywall', 'Pinterest', 'Scope of Coverage', 'Snapchat', 'Topics', 'Wikipedia', 'YouTube']\n",
      "2020070201 ['Paywall', 'Pinterest', 'Scope of Coverage', 'Snapchat', 'Topics', 'Wikipedia', 'YouTube']\n",
      "2020080201 ['Flags', 'Paywall', 'Pinterest', 'Process Information', 'Scope of Coverage', 'Snapchat', 'Topics', 'Wikipedia', 'Youtube']\n",
      "2020090201 ['Flags', 'Paywall', 'Pinterest', 'Process Information', 'Scope of Coverage', 'Snapchat', 'Topics', 'Wikipedia', 'Youtube', 'myths']\n",
      "2020100201 ['Flags', 'Paywall', 'Pinterest', 'Process Information', 'Scope of Coverage', 'Snapchat', 'Topics', 'Wikipedia', 'Youtube', 'myths']\n",
      "2020110201 ['Flags', 'Paywall', 'Pinterest', 'Process Information', 'Scope of Coverage', 'Snapchat', 'Topics', 'Wikipedia', 'Youtube', 'myths']\n",
      "2020120201 ['Flags', 'Paywall', 'Pinterest', 'Process Information', 'Scope of Coverage', 'Snapchat', 'Topics', 'Wikipedia', 'Youtube', 'myths']\n",
      "2021010201 ['Android App', 'Flags', 'Paywall', 'Pinterest', 'Process Information', 'Scope of Coverage', 'Snapchat', 'Topics', 'Wikipedia', 'Youtube', 'iOS App', 'myths']\n",
      "2021020201 ['Android App', 'Flags', 'Paywall', 'Pinterest', 'Process Information', 'Scope of Coverage', 'Snapchat', 'Topics', 'Wikipedia', 'Youtube', 'iOS App', 'myths']\n",
      "2021030201 ['Android App', 'Flags', 'Paywall', 'Pinterest', 'Process Information', 'Scope of Coverage', 'Snapchat', 'Topics', 'Wikipedia', 'Youtube', 'iOS App', 'myths']\n",
      "2021040201 ['Android App', 'Flags', 'Paywall', 'Pinterest', 'Process Information', 'Scope of Coverage', 'Snapchat', 'Topics', 'Wikipedia', 'Youtube', 'iOS App', 'myths']\n",
      "2021050201 ['Android App', 'Flags', 'Paywall', 'Pinterest', 'Process Information', 'Scope of Coverage', 'Snapchat', 'Topics', 'Wikipedia', 'Youtube', 'iOS App', 'myths']\n",
      "2021060201 ['Android App', 'Flags', 'Paywall', 'Pinterest', 'Process Information', 'Scope of Coverage', 'Snapchat', 'Topics', 'Wikipedia', 'Youtube', 'iOS App', 'myths']\n",
      "2021070201 ['Android App', 'Flags', 'Paywall', 'Pinterest', 'Process Information', 'Scope of Coverage', 'Snapchat', 'Topics', 'Wikipedia', 'Youtube', 'iOS App', 'myths']\n",
      "2021080201 ['Android App', 'Flags', 'Paywall', 'Pinterest', 'Process Information', 'Scope of Coverage', 'Snapchat', 'Topics', 'Wikipedia', 'Youtube', 'iOS App', 'myths']\n",
      "2021090201 ['Android App', 'Flags', 'Paywall', 'Pinterest', 'Process Information', 'Scope of Coverage', 'Snapchat', 'Topics', 'Wikipedia', 'Youtube', 'iOS App', 'myths']\n",
      "2021100201 ['Android App', 'Flags', 'Paywall', 'Pinterest', 'Process Information', 'Scope of Coverage', 'Snapchat', 'Topics', 'Wikipedia', 'Youtube', 'iOS App', 'myths']\n",
      "2021110201 ['Android App', 'Flags', 'Paywall', 'Pinterest', 'Process Information', 'Scope of Coverage', 'Snapchat', 'Topics', 'Wikipedia', 'Youtube', 'iOS App', 'myths']\n",
      "2021120201 ['Android App', 'Flags', 'Paywall', 'Pinterest', 'Process Information', 'Scope of Coverage', 'Snapchat', 'Topics', 'Wikipedia', 'Youtube', 'iOS App', 'myths']\n",
      "2022010201 ['Android App', 'Flags', 'Paywall', 'Pinterest', 'Process Information', 'Scope of Coverage', 'Snapchat', 'Topics', 'Wikipedia', 'Youtube', 'iOS App', 'myths']\n",
      "2022020201 ['Android App', 'Flags', 'Paywall', 'Pinterest', 'Process Information', 'Scope of Coverage', 'Snapchat', 'Topics', 'Wikipedia', 'Youtube', 'iOS App', 'myths']\n",
      "2022030201 ['Android App', 'Flags', 'Paywall', 'Pinterest', 'Process Information', 'Scope of Coverage', 'Snapchat', 'Topics', 'Wikipedia', 'Youtube', 'iOS App', 'myths']\n",
      "2022040201 ['Android App', 'Flags', 'Paywall', 'Pinterest', 'Process Information', 'Scope of Coverage', 'Snapchat', 'Topics', 'Wikipedia', 'Youtube', 'iOS App', 'myths']\n",
      "2022050201 ['Android App', 'Flags', 'Paywall', 'Pinterest', 'Process Information', 'Scope of Coverage', 'Snapchat', 'Topics', 'Wikipedia', 'Youtube', 'iOS App', 'myths']\n",
      "2022060201 ['Android App', 'Flags', 'Paywall', 'Pinterest', 'Process Information', 'Scope of Coverage', 'Snapchat', 'Topics', 'Wikipedia', 'Youtube', 'iOS App', 'myths']\n",
      "2022070201 ['Android App', 'Flags', 'Paywall', 'Pinterest', 'Process Information', 'Scope of Coverage', 'Snapchat', 'Topics', 'Wikipedia', 'Youtube', 'iOS App', 'myths']\n",
      "2022120201 ['Android App', 'Flags', 'OTHER', 'Original Reporting', 'Process Information', 'Targeted Audience', 'Topics', 'Youtube', 'iOS App', 'myths']\n",
      "2023010201 ['Android App', 'BrandGuard Segments', 'Communities Served', 'Contact Mail Form URL.1', 'Flags', 'Original Reporting', 'Other', 'Process Information', 'Targeted Audience', 'Topics', 'Youtube', 'iOS App', 'myths']\n",
      "2023020201 ['Android App', 'BrandGuard Segments', 'Communities Served', 'Contact Mail Form URL.1', 'False Narratives', 'Flags', 'Original Reporting', 'Other', 'Process Information', 'Targeted Audience', 'Topics', 'Youtube', 'iOS App']\n",
      "2023030201 ['Android App', 'BrandGuard Segments', 'Communities Served', 'Contact Mail Form URL.1', 'False Narratives', 'Flags', 'Original Reporting', 'Other', 'Process Information', 'Targeted Audience', 'Topics', 'Youtube', 'iOS App']\n"
     ]
    }
   ],
   "source": [
    "# for all the files, compare the columns\n",
    "columns_years = {}\n",
    "for csv in csv_files:\n",
    "    df=pd.read_csv(os.path.join(folder_path, csv))\n",
    "    columns_years[csv.split(\".\")[0].split(\"-\")[1]]=df.columns # saving a dict with the year/month as key and the columns as value to compare them\n",
    "# substracting the columns common to all the files\n",
    "always_present_columns = set.intersection(*map(set, columns_years.values()))\n",
    "# removing the columns that are always present from the columns of each file\n",
    "for year in columns_years.keys():\n",
    "    columns_years[year]=list(set(columns_years[year])-always_present_columns)\n",
    "# lets show the remaining columns over the years\n",
    "for year in columns_years.keys():\n",
    "    columns_years[year].sort()\n",
    "    print(year, columns_years[year])"
   ]
  },
  {
   "cell_type": "code",
   "execution_count": 14,
   "metadata": {},
   "outputs": [
    {
     "data": {
      "text/plain": [
       "34"
      ]
     },
     "execution_count": 14,
     "metadata": {},
     "output_type": "execute_result"
    }
   ],
   "source": [
    "len(always_present_columns)"
   ]
  },
  {
   "cell_type": "code",
   "execution_count": 15,
   "metadata": {},
   "outputs": [
    {
     "data": {
      "text/plain": [
       "Index(['UUID', 'Domain', 'Parent Domain', 'Rating', 'Score', 'Last Updated',\n",
       "       'Country', 'Language', 'Does not repeatedly publish false content',\n",
       "       'Gathers and presents information responsibly',\n",
       "       'Regularly corrects or clarifies errors',\n",
       "       'Handles the difference between news and opinion responsibly',\n",
       "       'Avoids deceptive headlines',\n",
       "       'Website discloses ownership and financing',\n",
       "       'Clearly labels advertising',\n",
       "       'Reveals who's in charge, including any possible conflicts of interest',\n",
       "       'The site provides names of content creators, along with either contact or biographical information',\n",
       "       'Brand Name', 'Wikipedia', 'Topics', 'Type of Content', 'Medium',\n",
       "       'Print Publications', 'Scope of Coverage', 'Designated Market Area',\n",
       "       'Paywall', 'Opinion/Advocacy Journalism', 'Orientation', 'Owner',\n",
       "       'Type of Owner', 'Flags', 'Process Information',\n",
       "       'Main Point of Contact (name)', 'Contact Phone Number', 'Contact Email',\n",
       "       'Contact Mail Form URL', 'Facebook', 'Twitter', 'Youtube', 'Instagram',\n",
       "       'Snapchat', 'LinkedIn', 'Pinterest', 'iOS App', 'Android App', 'myths',\n",
       "       'file_date', 'YouTube', 'Other', 'Original Reporting',\n",
       "       'Targeted Audience', 'Contact Mail Form URL.1', 'False Narratives',\n",
       "       'Communities Served', 'BrandGuard Segments', 'OTHER'],\n",
       "      dtype='object')"
      ]
     },
     "execution_count": 15,
     "metadata": {},
     "output_type": "execute_result"
    }
   ],
   "source": [
    "df_total.columns"
   ]
  },
  {
   "cell_type": "code",
   "execution_count": 16,
   "metadata": {},
   "outputs": [
    {
     "data": {
      "text/html": [
       "<div>\n",
       "<style scoped>\n",
       "    .dataframe tbody tr th:only-of-type {\n",
       "        vertical-align: middle;\n",
       "    }\n",
       "\n",
       "    .dataframe tbody tr th {\n",
       "        vertical-align: top;\n",
       "    }\n",
       "\n",
       "    .dataframe thead th {\n",
       "        text-align: right;\n",
       "    }\n",
       "</style>\n",
       "<table border=\"1\" class=\"dataframe\">\n",
       "  <thead>\n",
       "    <tr style=\"text-align: right;\">\n",
       "      <th></th>\n",
       "      <th>UUID</th>\n",
       "      <th>Domain</th>\n",
       "      <th>Parent Domain</th>\n",
       "      <th>Rating</th>\n",
       "      <th>Score</th>\n",
       "      <th>Last Updated</th>\n",
       "      <th>Country</th>\n",
       "      <th>Language</th>\n",
       "      <th>Does not repeatedly publish false content</th>\n",
       "      <th>Gathers and presents information responsibly</th>\n",
       "      <th>...</th>\n",
       "      <th>file_date</th>\n",
       "      <th>YouTube</th>\n",
       "      <th>Other</th>\n",
       "      <th>Original Reporting</th>\n",
       "      <th>Targeted Audience</th>\n",
       "      <th>Contact Mail Form URL.1</th>\n",
       "      <th>False Narratives</th>\n",
       "      <th>Communities Served</th>\n",
       "      <th>BrandGuard Segments</th>\n",
       "      <th>OTHER</th>\n",
       "    </tr>\n",
       "  </thead>\n",
       "  <tbody>\n",
       "    <tr>\n",
       "      <th>0</th>\n",
       "      <td>512f05a7-0ce8-4c4a-b3f3-983d008cb008</td>\n",
       "      <td>cleveland.com</td>\n",
       "      <td>NaN</td>\n",
       "      <td>T</td>\n",
       "      <td>92.5</td>\n",
       "      <td>1662082072620</td>\n",
       "      <td>US</td>\n",
       "      <td>en</td>\n",
       "      <td>Yes</td>\n",
       "      <td>Yes</td>\n",
       "      <td>...</td>\n",
       "      <td>2022-09-02 01:00:00</td>\n",
       "      <td>NaN</td>\n",
       "      <td>NaN</td>\n",
       "      <td>NaN</td>\n",
       "      <td>NaN</td>\n",
       "      <td>NaN</td>\n",
       "      <td>NaN</td>\n",
       "      <td>NaN</td>\n",
       "      <td>NaN</td>\n",
       "      <td>NaN</td>\n",
       "    </tr>\n",
       "    <tr>\n",
       "      <th>1</th>\n",
       "      <td>3ba8f2f4-3282-4e28-b59e-bf76511e1454</td>\n",
       "      <td>wctrib.com</td>\n",
       "      <td>NaN</td>\n",
       "      <td>T</td>\n",
       "      <td>100.0</td>\n",
       "      <td>1662079570072</td>\n",
       "      <td>US</td>\n",
       "      <td>en</td>\n",
       "      <td>Yes</td>\n",
       "      <td>Yes</td>\n",
       "      <td>...</td>\n",
       "      <td>2022-09-02 01:00:00</td>\n",
       "      <td>NaN</td>\n",
       "      <td>NaN</td>\n",
       "      <td>NaN</td>\n",
       "      <td>NaN</td>\n",
       "      <td>NaN</td>\n",
       "      <td>NaN</td>\n",
       "      <td>NaN</td>\n",
       "      <td>NaN</td>\n",
       "      <td>NaN</td>\n",
       "    </tr>\n",
       "    <tr>\n",
       "      <th>2</th>\n",
       "      <td>f3ac5288-5dcd-4e49-8063-89331fab2c47</td>\n",
       "      <td>capegazette.com</td>\n",
       "      <td>NaN</td>\n",
       "      <td>T</td>\n",
       "      <td>100.0</td>\n",
       "      <td>1662075996485</td>\n",
       "      <td>US</td>\n",
       "      <td>en</td>\n",
       "      <td>Yes</td>\n",
       "      <td>Yes</td>\n",
       "      <td>...</td>\n",
       "      <td>2022-09-02 01:00:00</td>\n",
       "      <td>NaN</td>\n",
       "      <td>NaN</td>\n",
       "      <td>NaN</td>\n",
       "      <td>NaN</td>\n",
       "      <td>NaN</td>\n",
       "      <td>NaN</td>\n",
       "      <td>NaN</td>\n",
       "      <td>NaN</td>\n",
       "      <td>NaN</td>\n",
       "    </tr>\n",
       "    <tr>\n",
       "      <th>3</th>\n",
       "      <td>14a2dd02-8394-44f8-be2a-5173f9d72823</td>\n",
       "      <td>thenewstack.io</td>\n",
       "      <td>NaN</td>\n",
       "      <td>T</td>\n",
       "      <td>92.5</td>\n",
       "      <td>1662070911483</td>\n",
       "      <td>US</td>\n",
       "      <td>en</td>\n",
       "      <td>Yes</td>\n",
       "      <td>Yes</td>\n",
       "      <td>...</td>\n",
       "      <td>2022-09-02 01:00:00</td>\n",
       "      <td>NaN</td>\n",
       "      <td>NaN</td>\n",
       "      <td>NaN</td>\n",
       "      <td>NaN</td>\n",
       "      <td>NaN</td>\n",
       "      <td>NaN</td>\n",
       "      <td>NaN</td>\n",
       "      <td>NaN</td>\n",
       "      <td>NaN</td>\n",
       "    </tr>\n",
       "    <tr>\n",
       "      <th>4</th>\n",
       "      <td>e583654c-2acb-4a77-9b66-6aacab382dd6</td>\n",
       "      <td>dailysceptic.org</td>\n",
       "      <td>NaN</td>\n",
       "      <td>N</td>\n",
       "      <td>37.5</td>\n",
       "      <td>1662070807918</td>\n",
       "      <td>GB</td>\n",
       "      <td>en</td>\n",
       "      <td>No</td>\n",
       "      <td>No</td>\n",
       "      <td>...</td>\n",
       "      <td>2022-09-02 01:00:00</td>\n",
       "      <td>NaN</td>\n",
       "      <td>NaN</td>\n",
       "      <td>NaN</td>\n",
       "      <td>NaN</td>\n",
       "      <td>NaN</td>\n",
       "      <td>NaN</td>\n",
       "      <td>NaN</td>\n",
       "      <td>NaN</td>\n",
       "      <td>NaN</td>\n",
       "    </tr>\n",
       "  </tbody>\n",
       "</table>\n",
       "<p>5 rows × 56 columns</p>\n",
       "</div>"
      ],
      "text/plain": [
       "                                   UUID            Domain Parent Domain  \\\n",
       "0  512f05a7-0ce8-4c4a-b3f3-983d008cb008     cleveland.com           NaN   \n",
       "1  3ba8f2f4-3282-4e28-b59e-bf76511e1454        wctrib.com           NaN   \n",
       "2  f3ac5288-5dcd-4e49-8063-89331fab2c47   capegazette.com           NaN   \n",
       "3  14a2dd02-8394-44f8-be2a-5173f9d72823    thenewstack.io           NaN   \n",
       "4  e583654c-2acb-4a77-9b66-6aacab382dd6  dailysceptic.org           NaN   \n",
       "\n",
       "  Rating  Score   Last Updated Country Language  \\\n",
       "0      T   92.5  1662082072620      US       en   \n",
       "1      T  100.0  1662079570072      US       en   \n",
       "2      T  100.0  1662075996485      US       en   \n",
       "3      T   92.5  1662070911483      US       en   \n",
       "4      N   37.5  1662070807918      GB       en   \n",
       "\n",
       "  Does not repeatedly publish false content  \\\n",
       "0                                       Yes   \n",
       "1                                       Yes   \n",
       "2                                       Yes   \n",
       "3                                       Yes   \n",
       "4                                        No   \n",
       "\n",
       "  Gathers and presents information responsibly  ...           file_date  \\\n",
       "0                                          Yes  ... 2022-09-02 01:00:00   \n",
       "1                                          Yes  ... 2022-09-02 01:00:00   \n",
       "2                                          Yes  ... 2022-09-02 01:00:00   \n",
       "3                                          Yes  ... 2022-09-02 01:00:00   \n",
       "4                                           No  ... 2022-09-02 01:00:00   \n",
       "\n",
       "  YouTube Other Original Reporting Targeted Audience Contact Mail Form URL.1  \\\n",
       "0     NaN   NaN                NaN               NaN                     NaN   \n",
       "1     NaN   NaN                NaN               NaN                     NaN   \n",
       "2     NaN   NaN                NaN               NaN                     NaN   \n",
       "3     NaN   NaN                NaN               NaN                     NaN   \n",
       "4     NaN   NaN                NaN               NaN                     NaN   \n",
       "\n",
       "  False Narratives Communities Served BrandGuard Segments OTHER  \n",
       "0              NaN                NaN                 NaN   NaN  \n",
       "1              NaN                NaN                 NaN   NaN  \n",
       "2              NaN                NaN                 NaN   NaN  \n",
       "3              NaN                NaN                 NaN   NaN  \n",
       "4              NaN                NaN                 NaN   NaN  \n",
       "\n",
       "[5 rows x 56 columns]"
      ]
     },
     "execution_count": 16,
     "metadata": {},
     "output_type": "execute_result"
    }
   ],
   "source": [
    "df_total.head()"
   ]
  },
  {
   "cell_type": "code",
   "execution_count": 17,
   "metadata": {},
   "outputs": [
    {
     "data": {
      "text/plain": [
       "10337"
      ]
     },
     "execution_count": 17,
     "metadata": {},
     "output_type": "execute_result"
    }
   ],
   "source": [
    "df_total[\"Domain\"].nunique()"
   ]
  },
  {
   "cell_type": "code",
   "execution_count": 19,
   "metadata": {},
   "outputs": [],
   "source": [
    "# save the dataframe to csv\n",
    "file=\"newsguard_merged.csv.gz\"\n",
    "df_total.to_csv(os.path.join(folder_path, file), compression=\"gzip\", index=False)"
   ]
  }
 ],
 "metadata": {
  "kernelspec": {
   "display_name": "Python 3.6.8 64-bit",
   "language": "python",
   "name": "python3"
  },
  "language_info": {
   "codemirror_mode": {
    "name": "ipython",
    "version": 3
   },
   "file_extension": ".py",
   "mimetype": "text/x-python",
   "name": "python",
   "nbconvert_exporter": "python",
   "pygments_lexer": "ipython3",
   "version": "3.6.8"
  },
  "orig_nbformat": 4,
  "vscode": {
   "interpreter": {
    "hash": "916dbcbb3f70747c44a77c7bcd40155683ae19c65e1c03b4aa3499c5328201f1"
   }
  }
 },
 "nbformat": 4,
 "nbformat_minor": 2
}
