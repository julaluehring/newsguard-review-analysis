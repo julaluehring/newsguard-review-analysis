{
 "cells": [
  {
   "attachments": {},
   "cell_type": "markdown",
   "metadata": {},
   "source": [
    "## Newsguard description"
   ]
  },
  {
   "attachments": {},
   "cell_type": "markdown",
   "metadata": {},
   "source": [
    "First, let's load the files.\n",
    "Let's start with one of them.\n"
   ]
  },
  {
   "cell_type": "code",
   "execution_count": 1,
   "metadata": {},
   "outputs": [],
   "source": [
    "import os\n",
    "import pandas as pd"
   ]
  },
  {
   "cell_type": "code",
   "execution_count": 2,
   "metadata": {},
   "outputs": [],
   "source": [
    "folder_path = \"../data/newsguard_biyearly/\"\n",
    "csv_files = [f for f in os.listdir(folder_path) if f.endswith('.csv')]"
   ]
  },
  {
   "cell_type": "code",
   "execution_count": 3,
   "metadata": {},
   "outputs": [],
   "source": [
    "file=csv_files[0]\n",
    "df = pd.read_csv(os.path.join(folder_path, file))\n",
    "df.name=file"
   ]
  },
  {
   "cell_type": "code",
   "execution_count": 4,
   "metadata": {},
   "outputs": [
    {
     "data": {
      "text/html": [
       "<div>\n",
       "<style scoped>\n",
       "    .dataframe tbody tr th:only-of-type {\n",
       "        vertical-align: middle;\n",
       "    }\n",
       "\n",
       "    .dataframe tbody tr th {\n",
       "        vertical-align: top;\n",
       "    }\n",
       "\n",
       "    .dataframe thead th {\n",
       "        text-align: right;\n",
       "    }\n",
       "</style>\n",
       "<table border=\"1\" class=\"dataframe\">\n",
       "  <thead>\n",
       "    <tr style=\"text-align: right;\">\n",
       "      <th></th>\n",
       "      <th>UUID</th>\n",
       "      <th>Domain</th>\n",
       "      <th>Parent Domain</th>\n",
       "      <th>Rating</th>\n",
       "      <th>Score</th>\n",
       "      <th>Last Updated</th>\n",
       "      <th>Country</th>\n",
       "      <th>Language</th>\n",
       "      <th>Does not repeatedly publish false content</th>\n",
       "      <th>Gathers and presents information responsibly</th>\n",
       "      <th>...</th>\n",
       "      <th>Twitter</th>\n",
       "      <th>YouTube</th>\n",
       "      <th>Instagram</th>\n",
       "      <th>Snapchat</th>\n",
       "      <th>LinkedIn</th>\n",
       "      <th>Pinterest</th>\n",
       "      <th>Main Point of Contact (name)</th>\n",
       "      <th>Contact Phone Number</th>\n",
       "      <th>Contact Email</th>\n",
       "      <th>Contact Mail Form URL</th>\n",
       "    </tr>\n",
       "  </thead>\n",
       "  <tbody>\n",
       "    <tr>\n",
       "      <th>0</th>\n",
       "      <td>35f341f9-d2c2-4d8f-9a00-910725e9647b</td>\n",
       "      <td>cbc.ca</td>\n",
       "      <td>NaN</td>\n",
       "      <td>T</td>\n",
       "      <td>100.0</td>\n",
       "      <td>1532095397020</td>\n",
       "      <td>US</td>\n",
       "      <td>en</td>\n",
       "      <td>Yes</td>\n",
       "      <td>Yes</td>\n",
       "      <td>...</td>\n",
       "      <td>NaN</td>\n",
       "      <td>NaN</td>\n",
       "      <td>NaN</td>\n",
       "      <td>NaN</td>\n",
       "      <td>NaN</td>\n",
       "      <td>NaN</td>\n",
       "      <td>NaN</td>\n",
       "      <td>NaN</td>\n",
       "      <td>NaN</td>\n",
       "      <td>NaN</td>\n",
       "    </tr>\n",
       "    <tr>\n",
       "      <th>1</th>\n",
       "      <td>0c0e5e84-0b5c-47ff-bff4-94e987771e16</td>\n",
       "      <td>bitraped.com</td>\n",
       "      <td>naturalnews.com</td>\n",
       "      <td>N</td>\n",
       "      <td>12.5</td>\n",
       "      <td>1551286266563</td>\n",
       "      <td>US</td>\n",
       "      <td>en</td>\n",
       "      <td>No</td>\n",
       "      <td>No</td>\n",
       "      <td>...</td>\n",
       "      <td>NaN</td>\n",
       "      <td>NaN</td>\n",
       "      <td>NaN</td>\n",
       "      <td>NaN</td>\n",
       "      <td>NaN</td>\n",
       "      <td>NaN</td>\n",
       "      <td>NaN</td>\n",
       "      <td>NaN</td>\n",
       "      <td>NaN</td>\n",
       "      <td>NaN</td>\n",
       "    </tr>\n",
       "    <tr>\n",
       "      <th>2</th>\n",
       "      <td>3ee37011-ba1f-4435-93d3-c72b59972b92</td>\n",
       "      <td>vogue.com</td>\n",
       "      <td>NaN</td>\n",
       "      <td>T</td>\n",
       "      <td>87.5</td>\n",
       "      <td>1532095401115</td>\n",
       "      <td>US</td>\n",
       "      <td>en</td>\n",
       "      <td>Yes</td>\n",
       "      <td>Yes</td>\n",
       "      <td>...</td>\n",
       "      <td>@voguemagazine</td>\n",
       "      <td>youtube.com/user/Americanvogue</td>\n",
       "      <td>@voguemagazine</td>\n",
       "      <td>@voguemagazine</td>\n",
       "      <td>NaN</td>\n",
       "      <td>NaN</td>\n",
       "      <td>NaN</td>\n",
       "      <td>NaN</td>\n",
       "      <td>NaN</td>\n",
       "      <td>NaN</td>\n",
       "    </tr>\n",
       "  </tbody>\n",
       "</table>\n",
       "<p>3 rows × 40 columns</p>\n",
       "</div>"
      ],
      "text/plain": [
       "                                   UUID        Domain    Parent Domain Rating  \\\n",
       "0  35f341f9-d2c2-4d8f-9a00-910725e9647b        cbc.ca              NaN      T   \n",
       "1  0c0e5e84-0b5c-47ff-bff4-94e987771e16  bitraped.com  naturalnews.com      N   \n",
       "2  3ee37011-ba1f-4435-93d3-c72b59972b92     vogue.com              NaN      T   \n",
       "\n",
       "   Score   Last Updated Country Language  \\\n",
       "0  100.0  1532095397020      US       en   \n",
       "1   12.5  1551286266563      US       en   \n",
       "2   87.5  1532095401115      US       en   \n",
       "\n",
       "  Does not repeatedly publish false content  \\\n",
       "0                                       Yes   \n",
       "1                                        No   \n",
       "2                                       Yes   \n",
       "\n",
       "  Gathers and presents information responsibly  ...         Twitter  \\\n",
       "0                                          Yes  ...             NaN   \n",
       "1                                           No  ...             NaN   \n",
       "2                                          Yes  ...  @voguemagazine   \n",
       "\n",
       "                          YouTube       Instagram        Snapchat LinkedIn  \\\n",
       "0                             NaN             NaN             NaN      NaN   \n",
       "1                             NaN             NaN             NaN      NaN   \n",
       "2  youtube.com/user/Americanvogue  @voguemagazine  @voguemagazine      NaN   \n",
       "\n",
       "  Pinterest Main Point of Contact (name) Contact Phone Number Contact Email  \\\n",
       "0       NaN                          NaN                  NaN           NaN   \n",
       "1       NaN                          NaN                  NaN           NaN   \n",
       "2       NaN                          NaN                  NaN           NaN   \n",
       "\n",
       "  Contact Mail Form URL  \n",
       "0                   NaN  \n",
       "1                   NaN  \n",
       "2                   NaN  \n",
       "\n",
       "[3 rows x 40 columns]"
      ]
     },
     "execution_count": 4,
     "metadata": {},
     "output_type": "execute_result"
    }
   ],
   "source": [
    "df.head(3)"
   ]
  },
  {
   "cell_type": "code",
   "execution_count": 5,
   "metadata": {},
   "outputs": [
    {
     "data": {
      "text/plain": [
       "Index(['UUID', 'Domain', 'Parent Domain', 'Rating', 'Score', 'Last Updated',\n",
       "       'Country', 'Language', 'Does not repeatedly publish false content',\n",
       "       'Gathers and presents information responsibly',\n",
       "       'Regularly corrects or clarifies errors',\n",
       "       'Handles the difference between news and opinion responsibly',\n",
       "       'Avoids deceptive headlines',\n",
       "       'Website discloses ownership and financing',\n",
       "       'Clearly labels advertising',\n",
       "       'Reveals who's in charge, including any possible conflicts of interest',\n",
       "       'The site provides names of content creators, along with either contact or biographical information',\n",
       "       'Brand Name', 'Wikipedia', 'Type of Content', 'Medium',\n",
       "       'Print Publications', 'Scope of Coverage', 'Designated Market Area',\n",
       "       'Paywall', 'Opinion/Advocacy Journalism', 'Orientation', 'Owner',\n",
       "       'Type of Owner', 'Facebook', 'Twitter', 'YouTube', 'Instagram',\n",
       "       'Snapchat', 'LinkedIn', 'Pinterest', 'Main Point of Contact (name)',\n",
       "       'Contact Phone Number', 'Contact Email', 'Contact Mail Form URL'],\n",
       "      dtype='object')"
      ]
     },
     "execution_count": 5,
     "metadata": {},
     "output_type": "execute_result"
    }
   ],
   "source": [
    "df.columns"
   ]
  },
  {
   "cell_type": "code",
   "execution_count": 6,
   "metadata": {},
   "outputs": [
    {
     "data": {
      "text/plain": [
       "40"
      ]
     },
     "execution_count": 6,
     "metadata": {},
     "output_type": "execute_result"
    }
   ],
   "source": [
    "df.columns.nunique()"
   ]
  },
  {
   "cell_type": "code",
   "execution_count": 7,
   "metadata": {},
   "outputs": [
    {
     "data": {
      "text/plain": [
       "2622"
      ]
     },
     "execution_count": 7,
     "metadata": {},
     "output_type": "execute_result"
    }
   ],
   "source": [
    "df.Domain.nunique()"
   ]
  },
  {
   "cell_type": "code",
   "execution_count": 8,
   "metadata": {},
   "outputs": [
    {
     "data": {
      "text/plain": [
       "67"
      ]
     },
     "execution_count": 8,
     "metadata": {},
     "output_type": "execute_result"
    }
   ],
   "source": [
    "df[\"Parent Domain\"].nunique()"
   ]
  },
  {
   "cell_type": "code",
   "execution_count": 9,
   "metadata": {},
   "outputs": [
    {
     "data": {
      "text/plain": [
       "'metadata-2019030100.csv'"
      ]
     },
     "execution_count": 9,
     "metadata": {},
     "output_type": "execute_result"
    }
   ],
   "source": [
    "df.name"
   ]
  },
  {
   "cell_type": "code",
   "execution_count": 10,
   "metadata": {},
   "outputs": [
    {
     "name": "stdout",
     "output_type": "stream",
     "text": [
      "(2626, 40)\n",
      "(7131, 46)\n",
      "(6770, 44)\n",
      "(4029, 40)\n",
      "(7664, 46)\n",
      "(4885, 41)\n",
      "(9926, 47)\n",
      "(9430, 46)\n",
      "(8661, 46)\n"
     ]
    }
   ],
   "source": [
    "df_total = pd.DataFrame()\n",
    "for csv in csv_files:\n",
    "    df = pd.read_csv(os.path.join(folder_path, csv))\n",
    "    df.name=csv\n",
    "    print(df.shape)\n",
    "    # let's add the date from the name of the file\n",
    "    # taking name of the file, removing the extension and \"metadata-\"\n",
    "    df[\"file_date\"]=csv.split(\".\")[0].split(\"-\")[1]\n",
    "    # make file_date a datetime, with the format YYYYMMDD00\n",
    "    df[\"file_date\"]=pd.to_datetime(df[\"file_date\"], format=\"%Y%m%d00\")\n",
    "    \n",
    "    df_total = pd.concat([df_total, df], axis=0)"
   ]
  },
  {
   "attachments": {},
   "cell_type": "markdown",
   "metadata": {},
   "source": [
    "The number of columns changes over time: Which ones were removed or added?"
   ]
  },
  {
   "cell_type": "code",
   "execution_count": 11,
   "metadata": {},
   "outputs": [
    {
     "name": "stdout",
     "output_type": "stream",
     "text": [
      "2019030100 ['Paywall', 'Pinterest', 'Scope of Coverage', 'Snapchat', 'Wikipedia', 'YouTube']\n",
      "2021030100 ['Android App', 'Flags', 'Paywall', 'Pinterest', 'Process Information', 'Scope of Coverage', 'Snapchat', 'Topics', 'Wikipedia', 'Youtube', 'iOS App', 'myths']\n",
      "2020090100 ['Flags', 'Paywall', 'Pinterest', 'Process Information', 'Scope of Coverage', 'Snapchat', 'Topics', 'Wikipedia', 'Youtube', 'myths']\n",
      "2019090100 ['Paywall', 'Pinterest', 'Scope of Coverage', 'Snapchat', 'Wikipedia', 'YouTube']\n",
      "2021090100 ['Android App', 'Flags', 'Paywall', 'Pinterest', 'Process Information', 'Scope of Coverage', 'Snapchat', 'Topics', 'Wikipedia', 'Youtube', 'iOS App', 'myths']\n",
      "2020030100 ['Paywall', 'Pinterest', 'Scope of Coverage', 'Snapchat', 'Topics', 'Wikipedia', 'YouTube']\n",
      "2023030100 ['Android App', 'BrandGuard Segments', 'Communities Served', 'Contact Mail Form URL.1', 'False Narratives', 'Flags', 'Original Reporting', 'Other', 'Process Information', 'Targeted Audience', 'Topics', 'Youtube', 'iOS App']\n",
      "2022090100 ['Android App', 'Flags', 'Paywall', 'Pinterest', 'Process Information', 'Scope of Coverage', 'Snapchat', 'Topics', 'Wikipedia', 'Youtube', 'iOS App', 'myths']\n",
      "2022030100 ['Android App', 'Flags', 'Paywall', 'Pinterest', 'Process Information', 'Scope of Coverage', 'Snapchat', 'Topics', 'Wikipedia', 'Youtube', 'iOS App', 'myths']\n"
     ]
    }
   ],
   "source": [
    "# for all the files, compare the columns\n",
    "columns_years = {}\n",
    "for csv in csv_files:\n",
    "    df=pd.read_csv(os.path.join(folder_path, csv))\n",
    "    columns_years[csv.split(\".\")[0].split(\"-\")[1]]=df.columns # saving a dict with the year/month as key and the columns as value to compare them\n",
    "# substracting the columns common to all the files\n",
    "always_present_columns = set.intersection(*map(set, columns_years.values()))\n",
    "# removing the columns that are always present from the columns of each file\n",
    "for year in columns_years.keys():\n",
    "    columns_years[year]=list(set(columns_years[year])-always_present_columns)\n",
    "# lets show the remaining columns over the years\n",
    "for year in columns_years.keys():\n",
    "    columns_years[year].sort()\n",
    "    print(year, columns_years[year])"
   ]
  },
  {
   "cell_type": "code",
   "execution_count": 12,
   "metadata": {},
   "outputs": [
    {
     "data": {
      "text/plain": [
       "34"
      ]
     },
     "execution_count": 12,
     "metadata": {},
     "output_type": "execute_result"
    }
   ],
   "source": [
    "len(always_present_columns)"
   ]
  },
  {
   "cell_type": "code",
   "execution_count": 13,
   "metadata": {},
   "outputs": [
    {
     "data": {
      "text/plain": [
       "Index(['UUID', 'Domain', 'Parent Domain', 'Rating', 'Score', 'Last Updated',\n",
       "       'Country', 'Language', 'Does not repeatedly publish false content',\n",
       "       'Gathers and presents information responsibly',\n",
       "       'Regularly corrects or clarifies errors',\n",
       "       'Handles the difference between news and opinion responsibly',\n",
       "       'Avoids deceptive headlines',\n",
       "       'Website discloses ownership and financing',\n",
       "       'Clearly labels advertising',\n",
       "       'Reveals who's in charge, including any possible conflicts of interest',\n",
       "       'The site provides names of content creators, along with either contact or biographical information',\n",
       "       'Brand Name', 'Wikipedia', 'Type of Content', 'Medium',\n",
       "       'Print Publications', 'Scope of Coverage', 'Designated Market Area',\n",
       "       'Paywall', 'Opinion/Advocacy Journalism', 'Orientation', 'Owner',\n",
       "       'Type of Owner', 'Facebook', 'Twitter', 'YouTube', 'Instagram',\n",
       "       'Snapchat', 'LinkedIn', 'Pinterest', 'Main Point of Contact (name)',\n",
       "       'Contact Phone Number', 'Contact Email', 'Contact Mail Form URL',\n",
       "       'file_date', 'Topics', 'Flags', 'Process Information', 'Youtube',\n",
       "       'iOS App', 'Android App', 'myths', 'Original Reporting',\n",
       "       'Targeted Audience', 'Contact Mail Form URL.1', 'Other',\n",
       "       'False Narratives', 'Communities Served', 'BrandGuard Segments'],\n",
       "      dtype='object')"
      ]
     },
     "execution_count": 13,
     "metadata": {},
     "output_type": "execute_result"
    }
   ],
   "source": [
    "df_total.columns"
   ]
  },
  {
   "cell_type": "code",
   "execution_count": 14,
   "metadata": {},
   "outputs": [
    {
     "data": {
      "text/html": [
       "<div>\n",
       "<style scoped>\n",
       "    .dataframe tbody tr th:only-of-type {\n",
       "        vertical-align: middle;\n",
       "    }\n",
       "\n",
       "    .dataframe tbody tr th {\n",
       "        vertical-align: top;\n",
       "    }\n",
       "\n",
       "    .dataframe thead th {\n",
       "        text-align: right;\n",
       "    }\n",
       "</style>\n",
       "<table border=\"1\" class=\"dataframe\">\n",
       "  <thead>\n",
       "    <tr style=\"text-align: right;\">\n",
       "      <th></th>\n",
       "      <th>UUID</th>\n",
       "      <th>Domain</th>\n",
       "      <th>Parent Domain</th>\n",
       "      <th>Rating</th>\n",
       "      <th>Score</th>\n",
       "      <th>Last Updated</th>\n",
       "      <th>Country</th>\n",
       "      <th>Language</th>\n",
       "      <th>Does not repeatedly publish false content</th>\n",
       "      <th>Gathers and presents information responsibly</th>\n",
       "      <th>...</th>\n",
       "      <th>iOS App</th>\n",
       "      <th>Android App</th>\n",
       "      <th>myths</th>\n",
       "      <th>Original Reporting</th>\n",
       "      <th>Targeted Audience</th>\n",
       "      <th>Contact Mail Form URL.1</th>\n",
       "      <th>Other</th>\n",
       "      <th>False Narratives</th>\n",
       "      <th>Communities Served</th>\n",
       "      <th>BrandGuard Segments</th>\n",
       "    </tr>\n",
       "  </thead>\n",
       "  <tbody>\n",
       "    <tr>\n",
       "      <th>0</th>\n",
       "      <td>35f341f9-d2c2-4d8f-9a00-910725e9647b</td>\n",
       "      <td>cbc.ca</td>\n",
       "      <td>NaN</td>\n",
       "      <td>T</td>\n",
       "      <td>100.0</td>\n",
       "      <td>1532095397020</td>\n",
       "      <td>US</td>\n",
       "      <td>en</td>\n",
       "      <td>Yes</td>\n",
       "      <td>Yes</td>\n",
       "      <td>...</td>\n",
       "      <td>NaN</td>\n",
       "      <td>NaN</td>\n",
       "      <td>NaN</td>\n",
       "      <td>NaN</td>\n",
       "      <td>NaN</td>\n",
       "      <td>NaN</td>\n",
       "      <td>NaN</td>\n",
       "      <td>NaN</td>\n",
       "      <td>NaN</td>\n",
       "      <td>NaN</td>\n",
       "    </tr>\n",
       "    <tr>\n",
       "      <th>1</th>\n",
       "      <td>0c0e5e84-0b5c-47ff-bff4-94e987771e16</td>\n",
       "      <td>bitraped.com</td>\n",
       "      <td>naturalnews.com</td>\n",
       "      <td>N</td>\n",
       "      <td>12.5</td>\n",
       "      <td>1551286266563</td>\n",
       "      <td>US</td>\n",
       "      <td>en</td>\n",
       "      <td>No</td>\n",
       "      <td>No</td>\n",
       "      <td>...</td>\n",
       "      <td>NaN</td>\n",
       "      <td>NaN</td>\n",
       "      <td>NaN</td>\n",
       "      <td>NaN</td>\n",
       "      <td>NaN</td>\n",
       "      <td>NaN</td>\n",
       "      <td>NaN</td>\n",
       "      <td>NaN</td>\n",
       "      <td>NaN</td>\n",
       "      <td>NaN</td>\n",
       "    </tr>\n",
       "    <tr>\n",
       "      <th>2</th>\n",
       "      <td>3ee37011-ba1f-4435-93d3-c72b59972b92</td>\n",
       "      <td>vogue.com</td>\n",
       "      <td>NaN</td>\n",
       "      <td>T</td>\n",
       "      <td>87.5</td>\n",
       "      <td>1532095401115</td>\n",
       "      <td>US</td>\n",
       "      <td>en</td>\n",
       "      <td>Yes</td>\n",
       "      <td>Yes</td>\n",
       "      <td>...</td>\n",
       "      <td>NaN</td>\n",
       "      <td>NaN</td>\n",
       "      <td>NaN</td>\n",
       "      <td>NaN</td>\n",
       "      <td>NaN</td>\n",
       "      <td>NaN</td>\n",
       "      <td>NaN</td>\n",
       "      <td>NaN</td>\n",
       "      <td>NaN</td>\n",
       "      <td>NaN</td>\n",
       "    </tr>\n",
       "    <tr>\n",
       "      <th>3</th>\n",
       "      <td>33b3a070-62e2-42f5-b814-600784eb2402</td>\n",
       "      <td>foodscience.news</td>\n",
       "      <td>naturalnews.com</td>\n",
       "      <td>N</td>\n",
       "      <td>12.5</td>\n",
       "      <td>1551286316472</td>\n",
       "      <td>US</td>\n",
       "      <td>en</td>\n",
       "      <td>No</td>\n",
       "      <td>No</td>\n",
       "      <td>...</td>\n",
       "      <td>NaN</td>\n",
       "      <td>NaN</td>\n",
       "      <td>NaN</td>\n",
       "      <td>NaN</td>\n",
       "      <td>NaN</td>\n",
       "      <td>NaN</td>\n",
       "      <td>NaN</td>\n",
       "      <td>NaN</td>\n",
       "      <td>NaN</td>\n",
       "      <td>NaN</td>\n",
       "    </tr>\n",
       "    <tr>\n",
       "      <th>4</th>\n",
       "      <td>95d6acf5-a5cc-4cea-b34f-2431000b7391</td>\n",
       "      <td>stripes.com</td>\n",
       "      <td>NaN</td>\n",
       "      <td>T</td>\n",
       "      <td>100.0</td>\n",
       "      <td>1532095405883</td>\n",
       "      <td>US</td>\n",
       "      <td>en</td>\n",
       "      <td>Yes</td>\n",
       "      <td>Yes</td>\n",
       "      <td>...</td>\n",
       "      <td>NaN</td>\n",
       "      <td>NaN</td>\n",
       "      <td>NaN</td>\n",
       "      <td>NaN</td>\n",
       "      <td>NaN</td>\n",
       "      <td>NaN</td>\n",
       "      <td>NaN</td>\n",
       "      <td>NaN</td>\n",
       "      <td>NaN</td>\n",
       "      <td>NaN</td>\n",
       "    </tr>\n",
       "  </tbody>\n",
       "</table>\n",
       "<p>5 rows × 55 columns</p>\n",
       "</div>"
      ],
      "text/plain": [
       "                                   UUID            Domain    Parent Domain  \\\n",
       "0  35f341f9-d2c2-4d8f-9a00-910725e9647b            cbc.ca              NaN   \n",
       "1  0c0e5e84-0b5c-47ff-bff4-94e987771e16      bitraped.com  naturalnews.com   \n",
       "2  3ee37011-ba1f-4435-93d3-c72b59972b92         vogue.com              NaN   \n",
       "3  33b3a070-62e2-42f5-b814-600784eb2402  foodscience.news  naturalnews.com   \n",
       "4  95d6acf5-a5cc-4cea-b34f-2431000b7391       stripes.com              NaN   \n",
       "\n",
       "  Rating  Score   Last Updated Country Language  \\\n",
       "0      T  100.0  1532095397020      US       en   \n",
       "1      N   12.5  1551286266563      US       en   \n",
       "2      T   87.5  1532095401115      US       en   \n",
       "3      N   12.5  1551286316472      US       en   \n",
       "4      T  100.0  1532095405883      US       en   \n",
       "\n",
       "  Does not repeatedly publish false content  \\\n",
       "0                                       Yes   \n",
       "1                                        No   \n",
       "2                                       Yes   \n",
       "3                                        No   \n",
       "4                                       Yes   \n",
       "\n",
       "  Gathers and presents information responsibly  ... iOS App Android App myths  \\\n",
       "0                                          Yes  ...     NaN         NaN   NaN   \n",
       "1                                           No  ...     NaN         NaN   NaN   \n",
       "2                                          Yes  ...     NaN         NaN   NaN   \n",
       "3                                           No  ...     NaN         NaN   NaN   \n",
       "4                                          Yes  ...     NaN         NaN   NaN   \n",
       "\n",
       "  Original Reporting Targeted Audience Contact Mail Form URL.1 Other  \\\n",
       "0                NaN               NaN                     NaN   NaN   \n",
       "1                NaN               NaN                     NaN   NaN   \n",
       "2                NaN               NaN                     NaN   NaN   \n",
       "3                NaN               NaN                     NaN   NaN   \n",
       "4                NaN               NaN                     NaN   NaN   \n",
       "\n",
       "  False Narratives Communities Served BrandGuard Segments  \n",
       "0              NaN                NaN                 NaN  \n",
       "1              NaN                NaN                 NaN  \n",
       "2              NaN                NaN                 NaN  \n",
       "3              NaN                NaN                 NaN  \n",
       "4              NaN                NaN                 NaN  \n",
       "\n",
       "[5 rows x 55 columns]"
      ]
     },
     "execution_count": 14,
     "metadata": {},
     "output_type": "execute_result"
    }
   ],
   "source": [
    "df_total.head()"
   ]
  },
  {
   "cell_type": "code",
   "execution_count": 15,
   "metadata": {},
   "outputs": [],
   "source": [
    "# save the dataframe to csv\n",
    "df_total.to_csv(\"../data/newsguard_biyearly.csv\", index=False)"
   ]
  }
 ],
 "metadata": {
  "kernelspec": {
   "display_name": "Python 3.9.15 ('base')",
   "language": "python",
   "name": "python3"
  },
  "language_info": {
   "codemirror_mode": {
    "name": "ipython",
    "version": 3
   },
   "file_extension": ".py",
   "mimetype": "text/x-python",
   "name": "python",
   "nbconvert_exporter": "python",
   "pygments_lexer": "ipython3",
   "version": "3.9.15"
  },
  "orig_nbformat": 4,
  "vscode": {
   "interpreter": {
    "hash": "d6d4de679c8b8793c053e0bf79e082b749ad2e415f159fd07ce5f44ec136d0e3"
   }
  }
 },
 "nbformat": 4,
 "nbformat_minor": 2
}
