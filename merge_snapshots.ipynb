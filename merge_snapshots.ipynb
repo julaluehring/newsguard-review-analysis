{
 "cells": [
  {
   "cell_type": "code",
   "execution_count": 11,
   "metadata": {},
   "outputs": [],
   "source": [
    "from os.path import join\n",
    "import os\n",
    "import pandas as pd"
   ]
  },
  {
   "cell_type": "code",
   "execution_count": 12,
   "metadata": {},
   "outputs": [],
   "source": [
    "DIR = \"/data/NewsGuard/bi-monthly/\""
   ]
  },
  {
   "cell_type": "code",
   "execution_count": 13,
   "metadata": {},
   "outputs": [],
   "source": [
    "csv_files = [f for f in os.listdir(DIR) \\\n",
    "                if f.endswith(\".csv\")] \n",
    "\n",
    "df_total = pd.DataFrame()\n",
    "for csv in csv_files: #taking all files in the folder\n",
    "    df = pd.read_csv(join(DIR, csv))\n",
    "    df.name=csv\n",
    "    #print(df.shape)\n",
    "    # taking name of file, removing the extension and \"metadata-\"\n",
    "    df[\"file_date\"]=csv.split(\".\")[0].split(\"-\")[1]\n",
    "    # converting file_date to datetime, with format YYYYMMDD00\n",
    "    df[\"file_date\"]=pd.to_datetime(df[\"file_date\"], \n",
    "                                   format=\"%Y%m%d%H\")\n",
    "    df_total = pd.concat([df_total, df], axis=0)"
   ]
  },
  {
   "cell_type": "code",
   "execution_count": 14,
   "metadata": {},
   "outputs": [],
   "source": [
    "csv_files = [f for f in os.listdir(DIR) \\\n",
    "                if f.endswith(\"1501.csv\")] \n",
    "df_15 = pd.DataFrame()\n",
    "for csv in csv_files:\n",
    "    df = pd.read_csv(join(DIR, csv))\n",
    "    df.name=csv\n",
    "    #print(df.shape)\n",
    "    df[\"file_date\"]=csv.split(\".\")[0].split(\"-\")[1]\n",
    "    df[\"file_date\"]=pd.to_datetime(df[\"file_date\"], \n",
    "                                   format=\"%Y%m%d%H\")\n",
    "    df_15 = pd.concat([df_15, df], axis=0)"
   ]
  },
  {
   "cell_type": "code",
   "execution_count": 15,
   "metadata": {},
   "outputs": [],
   "source": [
    "csv_files = [f for f in os.listdir(DIR) \\\n",
    "                if f.endswith(\"0201.csv\")] \n",
    "df_02 = pd.DataFrame()\n",
    "for csv in csv_files:\n",
    "    df = pd.read_csv(join(DIR, csv))\n",
    "    df.name=csv\n",
    "    #print(df.shape)\n",
    "    df[\"file_date\"]=csv.split(\".\")[0].split(\"-\")[1]\n",
    "    df[\"file_date\"]=pd.to_datetime(df[\"file_date\"], \n",
    "                                   format=\"%Y%m%d%H\")\n",
    "    df_02 = pd.concat([df_02, df], axis=0)"
   ]
  },
  {
   "cell_type": "code",
   "execution_count": 16,
   "metadata": {},
   "outputs": [],
   "source": [
    "df_first = pd.read_csv(\"/data/NewsGuard/2019/metadata-2019022701.csv\",\n",
    "                        low_memory=False)"
   ]
  },
  {
   "cell_type": "code",
   "execution_count": 17,
   "metadata": {},
   "outputs": [],
   "source": [
    "#dynamically read in the last file in the repository\n",
    "df_recent = pd.read_csv(\"/data/NewsGuard/2024/metadata-2024091601.csv\",\n",
    "                    low_memory=False)"
   ]
  },
  {
   "cell_type": "code",
   "execution_count": 18,
   "metadata": {},
   "outputs": [
    {
     "name": "stdout",
     "output_type": "stream",
     "text": [
      "In the most recent file, there are 12288 entries, with 10862 unique domains.\n",
      "In the first file, there are 2375 entries, with 2371 unique domains.\n"
     ]
    }
   ],
   "source": [
    "print(f'In the most recent file, there are {len(df_recent)} entries, '\n",
    "      f'with {df_recent[\"Domain\"].nunique()} unique domains.')\n",
    "\n",
    "print(f'In the first file, there are {len(df_first)} entries, '\n",
    "      f'with {df_first[\"Domain\"].nunique()} unique domains.')"
   ]
  },
  {
   "cell_type": "code",
   "execution_count": 19,
   "metadata": {},
   "outputs": [
    {
     "name": "stdout",
     "output_type": "stream",
     "text": [
      "Number of rows with Score: 11349\n",
      "Number of rows without Score: 939\n",
      "Percentage: 7.64%\n"
     ]
    }
   ],
   "source": [
    "print(f'Number of rows with Score: {len(df_recent) - df_recent.Score.isna().sum()}')\n",
    "print(f'Number of rows without Score: {df_recent.Score.isna().sum()}')\n",
    "print(f'Percentage: {round(df_recent.Score.isna().sum()/len(df_recent)*100,2)}%')"
   ]
  },
  {
   "cell_type": "code",
   "execution_count": 20,
   "metadata": {},
   "outputs": [
    {
     "data": {
      "text/html": [
       "<div>\n",
       "<style scoped>\n",
       "    .dataframe tbody tr th:only-of-type {\n",
       "        vertical-align: middle;\n",
       "    }\n",
       "\n",
       "    .dataframe tbody tr th {\n",
       "        vertical-align: top;\n",
       "    }\n",
       "\n",
       "    .dataframe thead th {\n",
       "        text-align: right;\n",
       "    }\n",
       "</style>\n",
       "<table border=\"1\" class=\"dataframe\">\n",
       "  <thead>\n",
       "    <tr style=\"text-align: right;\">\n",
       "      <th></th>\n",
       "      <th>Rating</th>\n",
       "      <th>Count</th>\n",
       "      <th>Percent</th>\n",
       "      <th>Mean</th>\n",
       "    </tr>\n",
       "  </thead>\n",
       "  <tbody>\n",
       "    <tr>\n",
       "      <th>0</th>\n",
       "      <td>T</td>\n",
       "      <td>6827</td>\n",
       "      <td>0.555583</td>\n",
       "      <td>87.224769</td>\n",
       "    </tr>\n",
       "    <tr>\n",
       "      <th>1</th>\n",
       "      <td>N</td>\n",
       "      <td>4522</td>\n",
       "      <td>0.368001</td>\n",
       "      <td>26.103273</td>\n",
       "    </tr>\n",
       "    <tr>\n",
       "      <th>2</th>\n",
       "      <td>FL</td>\n",
       "      <td>806</td>\n",
       "      <td>0.065592</td>\n",
       "      <td>NaN</td>\n",
       "    </tr>\n",
       "    <tr>\n",
       "      <th>3</th>\n",
       "      <td>P</td>\n",
       "      <td>70</td>\n",
       "      <td>0.005697</td>\n",
       "      <td>NaN</td>\n",
       "    </tr>\n",
       "    <tr>\n",
       "      <th>4</th>\n",
       "      <td>S</td>\n",
       "      <td>63</td>\n",
       "      <td>0.005127</td>\n",
       "      <td>NaN</td>\n",
       "    </tr>\n",
       "  </tbody>\n",
       "</table>\n",
       "</div>"
      ],
      "text/plain": [
       "  Rating  Count   Percent       Mean\n",
       "0      T   6827  0.555583  87.224769\n",
       "1      N   4522  0.368001  26.103273\n",
       "2     FL    806  0.065592        NaN\n",
       "3      P     70  0.005697        NaN\n",
       "4      S     63  0.005127        NaN"
      ]
     },
     "execution_count": 20,
     "metadata": {},
     "output_type": "execute_result"
    }
   ],
   "source": [
    "rating_counts = df_recent.Rating\\\n",
    "    .value_counts(normalize=False)\\\n",
    "    .reset_index()\\\n",
    "    .rename(columns={\"count\":\"Count\"})\n",
    "\n",
    "rating_countsp = df_recent.Rating\\\n",
    "    .value_counts(normalize=True)\\\n",
    "    .reset_index()\\\n",
    "    .rename(columns={\"proportion\":\"Percent\"})\n",
    "\n",
    "ratings = pd.merge(rating_counts, rating_countsp, \n",
    "                   on=\"Rating\")\n",
    "\n",
    "rating_mean = df_recent\\\n",
    "    .groupby(\"Rating\").Score\\\n",
    "    .mean()\\\n",
    "    .reset_index()\\\n",
    "    .rename(columns={\"Score\":\"Mean\"})\n",
    "\n",
    "pd.merge(ratings, rating_mean, on=\"Rating\")"
   ]
  },
  {
   "cell_type": "code",
   "execution_count": 21,
   "metadata": {},
   "outputs": [],
   "source": [
    "#for rating in df_recent.Rating.unique():\n",
    "#    print(rating, df_recent[df_recent.Rating == rating].Domain.unique()[:3])"
   ]
  },
  {
   "cell_type": "code",
   "execution_count": 22,
   "metadata": {},
   "outputs": [
    {
     "name": "stdout",
     "output_type": "stream",
     "text": [
      "No scores available for rating FL.\n"
     ]
    }
   ],
   "source": [
    "p_rating = df_recent[df_recent[\"Rating\"] == \"FL\"]\n",
    "if not p_rating[\"Score\"].isnull().all():\n",
    "    mean_score = p_rating[\"Score\"].mean(skipna=True)\n",
    "    print(f\"Mean score for rating FL: {mean_score}\")\n",
    "else:\n",
    "    print(f\"No scores available for rating FL.\")"
   ]
  },
  {
   "cell_type": "code",
   "execution_count": 23,
   "metadata": {},
   "outputs": [],
   "source": [
    "#save\n",
    "df_total.to_csv(\"/data/NewsGuard/newsguard_twice_month.csv\", index=False)\n",
    "df_15.to_csv(\"/data/NewsGuard/newsguard_mid_month.csv\", index=False)\n",
    "df_02.to_csv(\"/data/NewsGuard/newsguard_first_month.csv\", index=False)\n",
    "df_first.to_csv(\"/data/NewsGuard/newsguard_first_version.csv\", index=False)\n",
    "df_recent.to_csv(\"/data/NewsGuard/newsguard_recent_version.csv\", index=False)"
   ]
  }
 ],
 "metadata": {
  "kernelspec": {
   "display_name": "newsguard",
   "language": "python",
   "name": "python3"
  },
  "language_info": {
   "codemirror_mode": {
    "name": "ipython",
    "version": 3
   },
   "file_extension": ".py",
   "mimetype": "text/x-python",
   "name": "python",
   "nbconvert_exporter": "python",
   "pygments_lexer": "ipython3",
   "version": "3.12.4"
  }
 },
 "nbformat": 4,
 "nbformat_minor": 2
}
